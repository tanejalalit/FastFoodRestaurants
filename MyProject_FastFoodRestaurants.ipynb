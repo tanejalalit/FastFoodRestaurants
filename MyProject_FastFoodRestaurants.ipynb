{
 "cells": [
  {
   "cell_type": "markdown",
   "metadata": {},
   "source": [
    "<img src=\"https://github.com/tanejalalit/FastFoodRestaurants/blob/master/FastFood.jpg?raw=true\" width=\"240\" height=\"360\" />"
   ]
  },
  {
   "cell_type": "markdown",
   "metadata": {},
   "source": [
    "### Fast Food Restaurants Project by Lalit Taneja"
   ]
  },
  {
   "cell_type": "markdown",
   "metadata": {},
   "source": [
    "## Table of Contents\n",
    "\n",
    "1. [Problem Statement](#section1)<br>\n",
    "2. [Data Loading and Description](#section2)\n",
    "3. [Data Profiling](#section3)\n",
    "    - 3.1 [Understanding Fast Food Resturants Dataset](#section301)<br/>\n",
    "    - 3.2 [Pre Profiling](#section302)<br/>\n",
    "    - 3.3 [Preprocessing](#section303)<br/>\n",
    "    - 3.4 [Post Profiling](#section304)<br/>\n",
    "4. [Data Analysis](#section4)\n",
    "    - 4.1 [How the restaurants are distributed regionwise ?](#section401)<br/>\n",
    "    - 4.2 [What is the percentage distribution of Top 10 restaurants ?](#section402)<br/>\n",
    "    - 4.3 [What is the percentage distribution of Bottom 10 restaurants ?](#section403)<br/>\n",
    "    - 4.4 [Which are the Top 10 Provinces ?](#section404)<br/>\n",
    "    - 4.5 [Which are the Bottom 10 Provinces ?](#section405)<br/>\n",
    "    - 4.6 [Which are the Top 10 Cities ?](#section406)<br/>\n",
    "    - 4.7 [Which are the Bottom 10 Cities ?](#section407)<br/>\n",
    "    - 4.8 [What is the distribution of top 10 restaurants in California ?](#section408)<br/>\n",
    "    - 4.9 [How McDonald's restaurant is distributed in top 10 provinces ?](#section409)<br/>\n",
    "    - 4.10 [How McDonald's restaurant is distributed in top 10 cities ?](#section410)<br/>\n",
    "    - 4.11 [Restaurants distribution as per Region, Province and City ?](#section411)<br/>\n",
    "    - 4.12 [Perform Label Encoding for Categorical Variables](#section412)<br/>\n",
    "    - 4.13 [Correlation Matrix of Fast Food Restaurants](#section413)<br/>\n",
    "    - 4.14 [Donut Plot with Regions and Top 10 Provinces](#section414)<br/>\n",
    "5. [Conclusions](#section5)<br/>"
   ]
  },
  {
   "cell_type": "markdown",
   "metadata": {},
   "source": [
    "<a id=section1></a>"
   ]
  },
  {
   "cell_type": "markdown",
   "metadata": {},
   "source": [
    "### 1. Problem Statement"
   ]
  },
  {
   "cell_type": "markdown",
   "metadata": {},
   "source": [
    "This project is to perform __EDA__ using __Pandas__ on the __Fast Food Restaurants__ data and provide __actionable insights__ to the stakeholders. The stakeholders can be the __existing restaurants management__, __person who want to start a fast food restaurant__ post understanding the current business scenario or the __food delivery chains__ who accepts and deliver food at door step. "
   ]
  },
  {
   "cell_type": "markdown",
   "metadata": {},
   "source": [
    "<a id=section2></a>"
   ]
  },
  {
   "cell_type": "markdown",
   "metadata": {},
   "source": [
    "### 2. Data Loading and Description"
   ]
  },
  {
   "cell_type": "markdown",
   "metadata": {},
   "source": [
    "#### Import packages"
   ]
  },
  {
   "cell_type": "code",
   "execution_count": 16,
   "metadata": {},
   "outputs": [
    {
     "name": "stdout",
     "output_type": "stream",
     "text": [
      "Import Packages Done\n"
     ]
    }
   ],
   "source": [
    "import numpy as np\n",
    "import pandas as pd\n",
    "import pandas_profiling\n",
    "import seaborn as sns\n",
    "import matplotlib as mat\n",
    "import matplotlib.pyplot as plt\n",
    "%matplotlib inline\n",
    "sns.set()\n",
    "\n",
    "from plotly.offline import init_notebook_mode, iplot\n",
    "import plotly.graph_objs as go\n",
    "\n",
    "\n",
    "import bokeh as bok\n",
    "\n",
    "import string\n",
    "print('Import Packages Done')"
   ]
  },
  {
   "cell_type": "markdown",
   "metadata": {},
   "source": [
    "#### Import Fast Food Restaurants Dataset"
   ]
  },
  {
   "cell_type": "code",
   "execution_count": 17,
   "metadata": {
    "scrolled": true
   },
   "outputs": [],
   "source": [
    "# Read csv file\n",
    "df_ffr = pd.read_csv('https://raw.githubusercontent.com/insaid2018/Term-1/master/Data/Projects/FastFoodRestaurants.csv')"
   ]
  },
  {
   "cell_type": "markdown",
   "metadata": {},
   "source": [
    "<a id=section3></a>"
   ]
  },
  {
   "cell_type": "markdown",
   "metadata": {},
   "source": [
    "### 3. Data Profiling"
   ]
  },
  {
   "cell_type": "markdown",
   "metadata": {},
   "source": [
    "<a id=section301></a>"
   ]
  },
  {
   "cell_type": "markdown",
   "metadata": {},
   "source": [
    "### 3.1 Understanding Fast Food Resturants Dataset"
   ]
  },
  {
   "cell_type": "code",
   "execution_count": 18,
   "metadata": {},
   "outputs": [
    {
     "name": "stdout",
     "output_type": "stream",
     "text": [
      "(10000, 10)\n"
     ]
    },
    {
     "data": {
      "text/html": [
       "<div>\n",
       "<style scoped>\n",
       "    .dataframe tbody tr th:only-of-type {\n",
       "        vertical-align: middle;\n",
       "    }\n",
       "\n",
       "    .dataframe tbody tr th {\n",
       "        vertical-align: top;\n",
       "    }\n",
       "\n",
       "    .dataframe thead th {\n",
       "        text-align: right;\n",
       "    }\n",
       "</style>\n",
       "<table border=\"1\" class=\"dataframe\">\n",
       "  <thead>\n",
       "    <tr style=\"text-align: right;\">\n",
       "      <th></th>\n",
       "      <th>address</th>\n",
       "      <th>city</th>\n",
       "      <th>country</th>\n",
       "      <th>keys</th>\n",
       "      <th>latitude</th>\n",
       "      <th>longitude</th>\n",
       "      <th>name</th>\n",
       "      <th>postalCode</th>\n",
       "      <th>province</th>\n",
       "      <th>websites</th>\n",
       "    </tr>\n",
       "  </thead>\n",
       "  <tbody>\n",
       "    <tr>\n",
       "      <th>0</th>\n",
       "      <td>324 Main St</td>\n",
       "      <td>Massena</td>\n",
       "      <td>US</td>\n",
       "      <td>us/ny/massena/324mainst/-1161002137</td>\n",
       "      <td>44.92130</td>\n",
       "      <td>-74.89021</td>\n",
       "      <td>McDonald's</td>\n",
       "      <td>13662</td>\n",
       "      <td>NY</td>\n",
       "      <td>http://mcdonalds.com,http://www.mcdonalds.com/...</td>\n",
       "    </tr>\n",
       "    <tr>\n",
       "      <th>1</th>\n",
       "      <td>530 Clinton Ave</td>\n",
       "      <td>Washington Court House</td>\n",
       "      <td>US</td>\n",
       "      <td>us/oh/washingtoncourthouse/530clintonave/-7914...</td>\n",
       "      <td>39.53255</td>\n",
       "      <td>-83.44526</td>\n",
       "      <td>Wendy's</td>\n",
       "      <td>43160</td>\n",
       "      <td>OH</td>\n",
       "      <td>http://www.wendys.com</td>\n",
       "    </tr>\n",
       "    <tr>\n",
       "      <th>2</th>\n",
       "      <td>408 Market Square Dr</td>\n",
       "      <td>Maysville</td>\n",
       "      <td>US</td>\n",
       "      <td>us/ky/maysville/408marketsquaredr/1051460804</td>\n",
       "      <td>38.62736</td>\n",
       "      <td>-83.79141</td>\n",
       "      <td>Frisch's Big Boy</td>\n",
       "      <td>41056</td>\n",
       "      <td>KY</td>\n",
       "      <td>http://www.frischs.com,https://www.frischs.com...</td>\n",
       "    </tr>\n",
       "    <tr>\n",
       "      <th>3</th>\n",
       "      <td>6098 State Highway 37</td>\n",
       "      <td>Massena</td>\n",
       "      <td>US</td>\n",
       "      <td>us/ny/massena/6098statehighway37/-1161002137</td>\n",
       "      <td>44.95008</td>\n",
       "      <td>-74.84553</td>\n",
       "      <td>McDonald's</td>\n",
       "      <td>13662</td>\n",
       "      <td>NY</td>\n",
       "      <td>http://mcdonalds.com,http://www.mcdonalds.com/...</td>\n",
       "    </tr>\n",
       "    <tr>\n",
       "      <th>4</th>\n",
       "      <td>139 Columbus Rd</td>\n",
       "      <td>Athens</td>\n",
       "      <td>US</td>\n",
       "      <td>us/oh/athens/139columbusrd/990890980</td>\n",
       "      <td>39.35155</td>\n",
       "      <td>-82.09728</td>\n",
       "      <td>OMG! Rotisserie</td>\n",
       "      <td>45701</td>\n",
       "      <td>OH</td>\n",
       "      <td>http://www.omgrotisserie.com,http://omgrotisse...</td>\n",
       "    </tr>\n",
       "  </tbody>\n",
       "</table>\n",
       "</div>"
      ],
      "text/plain": [
       "                 address                    city country  \\\n",
       "0            324 Main St                 Massena      US   \n",
       "1        530 Clinton Ave  Washington Court House      US   \n",
       "2   408 Market Square Dr               Maysville      US   \n",
       "3  6098 State Highway 37                 Massena      US   \n",
       "4        139 Columbus Rd                  Athens      US   \n",
       "\n",
       "                                                keys  latitude  longitude  \\\n",
       "0                us/ny/massena/324mainst/-1161002137  44.92130  -74.89021   \n",
       "1  us/oh/washingtoncourthouse/530clintonave/-7914...  39.53255  -83.44526   \n",
       "2       us/ky/maysville/408marketsquaredr/1051460804  38.62736  -83.79141   \n",
       "3       us/ny/massena/6098statehighway37/-1161002137  44.95008  -74.84553   \n",
       "4               us/oh/athens/139columbusrd/990890980  39.35155  -82.09728   \n",
       "\n",
       "               name postalCode province  \\\n",
       "0        McDonald's      13662       NY   \n",
       "1           Wendy's      43160       OH   \n",
       "2  Frisch's Big Boy      41056       KY   \n",
       "3        McDonald's      13662       NY   \n",
       "4   OMG! Rotisserie      45701       OH   \n",
       "\n",
       "                                            websites  \n",
       "0  http://mcdonalds.com,http://www.mcdonalds.com/...  \n",
       "1                              http://www.wendys.com  \n",
       "2  http://www.frischs.com,https://www.frischs.com...  \n",
       "3  http://mcdonalds.com,http://www.mcdonalds.com/...  \n",
       "4  http://www.omgrotisserie.com,http://omgrotisse...  "
      ]
     },
     "execution_count": 18,
     "metadata": {},
     "output_type": "execute_result"
    }
   ],
   "source": [
    "print(df_ffr.shape)\n",
    "df_ffr.head()"
   ]
  },
  {
   "cell_type": "code",
   "execution_count": 19,
   "metadata": {},
   "outputs": [
    {
     "name": "stdout",
     "output_type": "stream",
     "text": [
      "<class 'pandas.core.frame.DataFrame'>\n",
      "RangeIndex: 10000 entries, 0 to 9999\n",
      "Data columns (total 10 columns):\n",
      "address       10000 non-null object\n",
      "city          10000 non-null object\n",
      "country       10000 non-null object\n",
      "keys          10000 non-null object\n",
      "latitude      10000 non-null float64\n",
      "longitude     10000 non-null float64\n",
      "name          10000 non-null object\n",
      "postalCode    10000 non-null object\n",
      "province      10000 non-null object\n",
      "websites      9535 non-null object\n",
      "dtypes: float64(2), object(8)\n",
      "memory usage: 781.3+ KB\n"
     ]
    }
   ],
   "source": [
    "df_ffr.info()"
   ]
  },
  {
   "cell_type": "code",
   "execution_count": 20,
   "metadata": {},
   "outputs": [
    {
     "data": {
      "text/plain": [
       "address        object\n",
       "city           object\n",
       "country        object\n",
       "keys           object\n",
       "latitude      float64\n",
       "longitude     float64\n",
       "name           object\n",
       "postalCode     object\n",
       "province       object\n",
       "websites       object\n",
       "dtype: object"
      ]
     },
     "execution_count": 20,
     "metadata": {},
     "output_type": "execute_result"
    }
   ],
   "source": [
    "df_ffr.dtypes"
   ]
  },
  {
   "cell_type": "code",
   "execution_count": 21,
   "metadata": {},
   "outputs": [
    {
     "data": {
      "text/html": [
       "<div>\n",
       "<style scoped>\n",
       "    .dataframe tbody tr th:only-of-type {\n",
       "        vertical-align: middle;\n",
       "    }\n",
       "\n",
       "    .dataframe tbody tr th {\n",
       "        vertical-align: top;\n",
       "    }\n",
       "\n",
       "    .dataframe thead th {\n",
       "        text-align: right;\n",
       "    }\n",
       "</style>\n",
       "<table border=\"1\" class=\"dataframe\">\n",
       "  <thead>\n",
       "    <tr style=\"text-align: right;\">\n",
       "      <th></th>\n",
       "      <th>address</th>\n",
       "      <th>city</th>\n",
       "      <th>country</th>\n",
       "      <th>keys</th>\n",
       "      <th>latitude</th>\n",
       "      <th>longitude</th>\n",
       "      <th>name</th>\n",
       "      <th>postalCode</th>\n",
       "      <th>province</th>\n",
       "      <th>websites</th>\n",
       "    </tr>\n",
       "  </thead>\n",
       "  <tbody>\n",
       "    <tr>\n",
       "      <th>count</th>\n",
       "      <td>10000</td>\n",
       "      <td>10000</td>\n",
       "      <td>10000</td>\n",
       "      <td>10000</td>\n",
       "      <td>10000.000000</td>\n",
       "      <td>10000.000000</td>\n",
       "      <td>10000</td>\n",
       "      <td>10000</td>\n",
       "      <td>10000</td>\n",
       "      <td>9535</td>\n",
       "    </tr>\n",
       "    <tr>\n",
       "      <th>unique</th>\n",
       "      <td>9934</td>\n",
       "      <td>2775</td>\n",
       "      <td>1</td>\n",
       "      <td>10000</td>\n",
       "      <td>NaN</td>\n",
       "      <td>NaN</td>\n",
       "      <td>548</td>\n",
       "      <td>5289</td>\n",
       "      <td>52</td>\n",
       "      <td>3821</td>\n",
       "    </tr>\n",
       "    <tr>\n",
       "      <th>top</th>\n",
       "      <td>515 E Main St</td>\n",
       "      <td>Cincinnati</td>\n",
       "      <td>US</td>\n",
       "      <td>us/il/lakezurich/645nrandrd/1121518186</td>\n",
       "      <td>NaN</td>\n",
       "      <td>NaN</td>\n",
       "      <td>McDonald's</td>\n",
       "      <td>57701</td>\n",
       "      <td>CA</td>\n",
       "      <td>http://mcdonalds.com,http://www.mcdonalds.com/...</td>\n",
       "    </tr>\n",
       "    <tr>\n",
       "      <th>freq</th>\n",
       "      <td>3</td>\n",
       "      <td>119</td>\n",
       "      <td>10000</td>\n",
       "      <td>1</td>\n",
       "      <td>NaN</td>\n",
       "      <td>NaN</td>\n",
       "      <td>1886</td>\n",
       "      <td>23</td>\n",
       "      <td>676</td>\n",
       "      <td>1074</td>\n",
       "    </tr>\n",
       "    <tr>\n",
       "      <th>mean</th>\n",
       "      <td>NaN</td>\n",
       "      <td>NaN</td>\n",
       "      <td>NaN</td>\n",
       "      <td>NaN</td>\n",
       "      <td>37.552195</td>\n",
       "      <td>-91.056132</td>\n",
       "      <td>NaN</td>\n",
       "      <td>NaN</td>\n",
       "      <td>NaN</td>\n",
       "      <td>NaN</td>\n",
       "    </tr>\n",
       "    <tr>\n",
       "      <th>std</th>\n",
       "      <td>NaN</td>\n",
       "      <td>NaN</td>\n",
       "      <td>NaN</td>\n",
       "      <td>NaN</td>\n",
       "      <td>5.050275</td>\n",
       "      <td>18.556339</td>\n",
       "      <td>NaN</td>\n",
       "      <td>NaN</td>\n",
       "      <td>NaN</td>\n",
       "      <td>NaN</td>\n",
       "    </tr>\n",
       "    <tr>\n",
       "      <th>min</th>\n",
       "      <td>NaN</td>\n",
       "      <td>NaN</td>\n",
       "      <td>NaN</td>\n",
       "      <td>NaN</td>\n",
       "      <td>-6.244273</td>\n",
       "      <td>-159.378915</td>\n",
       "      <td>NaN</td>\n",
       "      <td>NaN</td>\n",
       "      <td>NaN</td>\n",
       "      <td>NaN</td>\n",
       "    </tr>\n",
       "    <tr>\n",
       "      <th>25%</th>\n",
       "      <td>NaN</td>\n",
       "      <td>NaN</td>\n",
       "      <td>NaN</td>\n",
       "      <td>NaN</td>\n",
       "      <td>34.028706</td>\n",
       "      <td>-97.412631</td>\n",
       "      <td>NaN</td>\n",
       "      <td>NaN</td>\n",
       "      <td>NaN</td>\n",
       "      <td>NaN</td>\n",
       "    </tr>\n",
       "    <tr>\n",
       "      <th>50%</th>\n",
       "      <td>NaN</td>\n",
       "      <td>NaN</td>\n",
       "      <td>NaN</td>\n",
       "      <td>NaN</td>\n",
       "      <td>38.298217</td>\n",
       "      <td>-87.660930</td>\n",
       "      <td>NaN</td>\n",
       "      <td>NaN</td>\n",
       "      <td>NaN</td>\n",
       "      <td>NaN</td>\n",
       "    </tr>\n",
       "    <tr>\n",
       "      <th>75%</th>\n",
       "      <td>NaN</td>\n",
       "      <td>NaN</td>\n",
       "      <td>NaN</td>\n",
       "      <td>NaN</td>\n",
       "      <td>41.116765</td>\n",
       "      <td>-81.458351</td>\n",
       "      <td>NaN</td>\n",
       "      <td>NaN</td>\n",
       "      <td>NaN</td>\n",
       "      <td>NaN</td>\n",
       "    </tr>\n",
       "    <tr>\n",
       "      <th>max</th>\n",
       "      <td>NaN</td>\n",
       "      <td>NaN</td>\n",
       "      <td>NaN</td>\n",
       "      <td>NaN</td>\n",
       "      <td>64.840240</td>\n",
       "      <td>123.012361</td>\n",
       "      <td>NaN</td>\n",
       "      <td>NaN</td>\n",
       "      <td>NaN</td>\n",
       "      <td>NaN</td>\n",
       "    </tr>\n",
       "  </tbody>\n",
       "</table>\n",
       "</div>"
      ],
      "text/plain": [
       "              address        city country  \\\n",
       "count           10000       10000   10000   \n",
       "unique           9934        2775       1   \n",
       "top     515 E Main St  Cincinnati      US   \n",
       "freq                3         119   10000   \n",
       "mean              NaN         NaN     NaN   \n",
       "std               NaN         NaN     NaN   \n",
       "min               NaN         NaN     NaN   \n",
       "25%               NaN         NaN     NaN   \n",
       "50%               NaN         NaN     NaN   \n",
       "75%               NaN         NaN     NaN   \n",
       "max               NaN         NaN     NaN   \n",
       "\n",
       "                                          keys      latitude     longitude  \\\n",
       "count                                    10000  10000.000000  10000.000000   \n",
       "unique                                   10000           NaN           NaN   \n",
       "top     us/il/lakezurich/645nrandrd/1121518186           NaN           NaN   \n",
       "freq                                         1           NaN           NaN   \n",
       "mean                                       NaN     37.552195    -91.056132   \n",
       "std                                        NaN      5.050275     18.556339   \n",
       "min                                        NaN     -6.244273   -159.378915   \n",
       "25%                                        NaN     34.028706    -97.412631   \n",
       "50%                                        NaN     38.298217    -87.660930   \n",
       "75%                                        NaN     41.116765    -81.458351   \n",
       "max                                        NaN     64.840240    123.012361   \n",
       "\n",
       "              name postalCode province  \\\n",
       "count        10000      10000    10000   \n",
       "unique         548       5289       52   \n",
       "top     McDonald's      57701       CA   \n",
       "freq          1886         23      676   \n",
       "mean           NaN        NaN      NaN   \n",
       "std            NaN        NaN      NaN   \n",
       "min            NaN        NaN      NaN   \n",
       "25%            NaN        NaN      NaN   \n",
       "50%            NaN        NaN      NaN   \n",
       "75%            NaN        NaN      NaN   \n",
       "max            NaN        NaN      NaN   \n",
       "\n",
       "                                                 websites  \n",
       "count                                                9535  \n",
       "unique                                               3821  \n",
       "top     http://mcdonalds.com,http://www.mcdonalds.com/...  \n",
       "freq                                                 1074  \n",
       "mean                                                  NaN  \n",
       "std                                                   NaN  \n",
       "min                                                   NaN  \n",
       "25%                                                   NaN  \n",
       "50%                                                   NaN  \n",
       "75%                                                   NaN  \n",
       "max                                                   NaN  "
      ]
     },
     "execution_count": 21,
     "metadata": {},
     "output_type": "execute_result"
    }
   ],
   "source": [
    "df_ffr.describe(include='all')"
   ]
  },
  {
   "cell_type": "markdown",
   "metadata": {},
   "source": [
    "<a id=section302></a>"
   ]
  },
  {
   "cell_type": "markdown",
   "metadata": {},
   "source": [
    "### 3.2 Pre Profiling"
   ]
  },
  {
   "cell_type": "code",
   "execution_count": 23,
   "metadata": {},
   "outputs": [],
   "source": [
    "profile = pandas_profiling.ProfileReport(df_ffr)\n",
    "profile.to_file(outputfile=\"FastFoodRestaurants_before_preprocessing.html\")"
   ]
  },
  {
   "cell_type": "markdown",
   "metadata": {},
   "source": [
    "<a id=section303></a>"
   ]
  },
  {
   "cell_type": "markdown",
   "metadata": {},
   "source": [
    "### 3.3 Preprocessing"
   ]
  },
  {
   "cell_type": "code",
   "execution_count": 24,
   "metadata": {},
   "outputs": [],
   "source": [
    "df_ffr_new = df_ffr.copy(deep=True)  #Creating a new DataFrame to clean data for analysis"
   ]
  },
  {
   "cell_type": "code",
   "execution_count": 25,
   "metadata": {},
   "outputs": [
    {
     "data": {
      "text/html": [
       "<div>\n",
       "<style scoped>\n",
       "    .dataframe tbody tr th:only-of-type {\n",
       "        vertical-align: middle;\n",
       "    }\n",
       "\n",
       "    .dataframe tbody tr th {\n",
       "        vertical-align: top;\n",
       "    }\n",
       "\n",
       "    .dataframe thead th {\n",
       "        text-align: right;\n",
       "    }\n",
       "</style>\n",
       "<table border=\"1\" class=\"dataframe\">\n",
       "  <thead>\n",
       "    <tr style=\"text-align: right;\">\n",
       "      <th></th>\n",
       "      <th>address</th>\n",
       "      <th>city</th>\n",
       "      <th>country</th>\n",
       "      <th>keys</th>\n",
       "      <th>latitude</th>\n",
       "      <th>longitude</th>\n",
       "      <th>name</th>\n",
       "      <th>postalCode</th>\n",
       "      <th>province</th>\n",
       "      <th>websites</th>\n",
       "    </tr>\n",
       "  </thead>\n",
       "  <tbody>\n",
       "    <tr>\n",
       "      <th>2816</th>\n",
       "      <td>9215 Evan Way</td>\n",
       "      <td>Bluffton</td>\n",
       "      <td>US</td>\n",
       "      <td>us/sc/bluffton/9215evanway/-791445730</td>\n",
       "      <td>32.245530</td>\n",
       "      <td>-80.97804</td>\n",
       "      <td>Wendy's</td>\n",
       "      <td>29910</td>\n",
       "      <td>SC</td>\n",
       "      <td>http://www.wendys.com</td>\n",
       "    </tr>\n",
       "    <tr>\n",
       "      <th>6926</th>\n",
       "      <td>10400 S Western Ave</td>\n",
       "      <td>Oklahoma City</td>\n",
       "      <td>US</td>\n",
       "      <td>us/ok/oklahomacity/10400swesternave/-66712705</td>\n",
       "      <td>35.364050</td>\n",
       "      <td>-97.52888</td>\n",
       "      <td>Pizza Hut</td>\n",
       "      <td>73139</td>\n",
       "      <td>OK</td>\n",
       "      <td>http://www.pizzahut.com</td>\n",
       "    </tr>\n",
       "    <tr>\n",
       "      <th>390</th>\n",
       "      <td>625 S 5th Ave</td>\n",
       "      <td>Pocatello</td>\n",
       "      <td>US</td>\n",
       "      <td>us/id/pocatello/625s5thave/-1947870258</td>\n",
       "      <td>42.862350</td>\n",
       "      <td>-112.43917</td>\n",
       "      <td>Jimmy John's</td>\n",
       "      <td>83201</td>\n",
       "      <td>ID</td>\n",
       "      <td>http://www.jimmyjohns.com</td>\n",
       "    </tr>\n",
       "    <tr>\n",
       "      <th>9031</th>\n",
       "      <td>273 E Roy Furman Hwy</td>\n",
       "      <td>Waynesburg</td>\n",
       "      <td>US</td>\n",
       "      <td>us/pa/waynesburg/273eroyfurmanhwy/96969412</td>\n",
       "      <td>39.899593</td>\n",
       "      <td>-80.14741</td>\n",
       "      <td>Exxon</td>\n",
       "      <td>15370</td>\n",
       "      <td>PA</td>\n",
       "      <td>http://exxon.com</td>\n",
       "    </tr>\n",
       "    <tr>\n",
       "      <th>229</th>\n",
       "      <td>1400 S Higley Blvd</td>\n",
       "      <td>Rawlins</td>\n",
       "      <td>US</td>\n",
       "      <td>us/wy/rawlins/1400shigleyblvd/-891525969</td>\n",
       "      <td>41.776180</td>\n",
       "      <td>-107.22593</td>\n",
       "      <td>Subway</td>\n",
       "      <td>82301</td>\n",
       "      <td>WY</td>\n",
       "      <td>https://www.ta-petro.com</td>\n",
       "    </tr>\n",
       "  </tbody>\n",
       "</table>\n",
       "</div>"
      ],
      "text/plain": [
       "                   address           city country  \\\n",
       "2816         9215 Evan Way       Bluffton      US   \n",
       "6926   10400 S Western Ave  Oklahoma City      US   \n",
       "390          625 S 5th Ave      Pocatello      US   \n",
       "9031  273 E Roy Furman Hwy     Waynesburg      US   \n",
       "229     1400 S Higley Blvd        Rawlins      US   \n",
       "\n",
       "                                               keys   latitude  longitude  \\\n",
       "2816          us/sc/bluffton/9215evanway/-791445730  32.245530  -80.97804   \n",
       "6926  us/ok/oklahomacity/10400swesternave/-66712705  35.364050  -97.52888   \n",
       "390          us/id/pocatello/625s5thave/-1947870258  42.862350 -112.43917   \n",
       "9031     us/pa/waynesburg/273eroyfurmanhwy/96969412  39.899593  -80.14741   \n",
       "229        us/wy/rawlins/1400shigleyblvd/-891525969  41.776180 -107.22593   \n",
       "\n",
       "              name postalCode province                   websites  \n",
       "2816       Wendy's      29910       SC      http://www.wendys.com  \n",
       "6926     Pizza Hut      73139       OK    http://www.pizzahut.com  \n",
       "390   Jimmy John's      83201       ID  http://www.jimmyjohns.com  \n",
       "9031         Exxon      15370       PA           http://exxon.com  \n",
       "229         Subway      82301       WY   https://www.ta-petro.com  "
      ]
     },
     "execution_count": 25,
     "metadata": {},
     "output_type": "execute_result"
    }
   ],
   "source": [
    "df_ffr_new.sample(5)"
   ]
  },
  {
   "cell_type": "markdown",
   "metadata": {},
   "source": [
    "#### Drop column 'country' since it has constant value 'US'"
   ]
  },
  {
   "cell_type": "code",
   "execution_count": 26,
   "metadata": {},
   "outputs": [
    {
     "data": {
      "text/html": [
       "<div>\n",
       "<style scoped>\n",
       "    .dataframe tbody tr th:only-of-type {\n",
       "        vertical-align: middle;\n",
       "    }\n",
       "\n",
       "    .dataframe tbody tr th {\n",
       "        vertical-align: top;\n",
       "    }\n",
       "\n",
       "    .dataframe thead th {\n",
       "        text-align: right;\n",
       "    }\n",
       "</style>\n",
       "<table border=\"1\" class=\"dataframe\">\n",
       "  <thead>\n",
       "    <tr style=\"text-align: right;\">\n",
       "      <th></th>\n",
       "      <th>address</th>\n",
       "      <th>city</th>\n",
       "      <th>keys</th>\n",
       "      <th>latitude</th>\n",
       "      <th>longitude</th>\n",
       "      <th>name</th>\n",
       "      <th>postalCode</th>\n",
       "      <th>province</th>\n",
       "      <th>websites</th>\n",
       "    </tr>\n",
       "  </thead>\n",
       "  <tbody>\n",
       "    <tr>\n",
       "      <th>0</th>\n",
       "      <td>324 Main St</td>\n",
       "      <td>Massena</td>\n",
       "      <td>us/ny/massena/324mainst/-1161002137</td>\n",
       "      <td>44.92130</td>\n",
       "      <td>-74.89021</td>\n",
       "      <td>McDonald's</td>\n",
       "      <td>13662</td>\n",
       "      <td>NY</td>\n",
       "      <td>http://mcdonalds.com,http://www.mcdonalds.com/...</td>\n",
       "    </tr>\n",
       "    <tr>\n",
       "      <th>1</th>\n",
       "      <td>530 Clinton Ave</td>\n",
       "      <td>Washington Court House</td>\n",
       "      <td>us/oh/washingtoncourthouse/530clintonave/-7914...</td>\n",
       "      <td>39.53255</td>\n",
       "      <td>-83.44526</td>\n",
       "      <td>Wendy's</td>\n",
       "      <td>43160</td>\n",
       "      <td>OH</td>\n",
       "      <td>http://www.wendys.com</td>\n",
       "    </tr>\n",
       "    <tr>\n",
       "      <th>2</th>\n",
       "      <td>408 Market Square Dr</td>\n",
       "      <td>Maysville</td>\n",
       "      <td>us/ky/maysville/408marketsquaredr/1051460804</td>\n",
       "      <td>38.62736</td>\n",
       "      <td>-83.79141</td>\n",
       "      <td>Frisch's Big Boy</td>\n",
       "      <td>41056</td>\n",
       "      <td>KY</td>\n",
       "      <td>http://www.frischs.com,https://www.frischs.com...</td>\n",
       "    </tr>\n",
       "    <tr>\n",
       "      <th>3</th>\n",
       "      <td>6098 State Highway 37</td>\n",
       "      <td>Massena</td>\n",
       "      <td>us/ny/massena/6098statehighway37/-1161002137</td>\n",
       "      <td>44.95008</td>\n",
       "      <td>-74.84553</td>\n",
       "      <td>McDonald's</td>\n",
       "      <td>13662</td>\n",
       "      <td>NY</td>\n",
       "      <td>http://mcdonalds.com,http://www.mcdonalds.com/...</td>\n",
       "    </tr>\n",
       "    <tr>\n",
       "      <th>4</th>\n",
       "      <td>139 Columbus Rd</td>\n",
       "      <td>Athens</td>\n",
       "      <td>us/oh/athens/139columbusrd/990890980</td>\n",
       "      <td>39.35155</td>\n",
       "      <td>-82.09728</td>\n",
       "      <td>OMG! Rotisserie</td>\n",
       "      <td>45701</td>\n",
       "      <td>OH</td>\n",
       "      <td>http://www.omgrotisserie.com,http://omgrotisse...</td>\n",
       "    </tr>\n",
       "  </tbody>\n",
       "</table>\n",
       "</div>"
      ],
      "text/plain": [
       "                 address                    city  \\\n",
       "0            324 Main St                 Massena   \n",
       "1        530 Clinton Ave  Washington Court House   \n",
       "2   408 Market Square Dr               Maysville   \n",
       "3  6098 State Highway 37                 Massena   \n",
       "4        139 Columbus Rd                  Athens   \n",
       "\n",
       "                                                keys  latitude  longitude  \\\n",
       "0                us/ny/massena/324mainst/-1161002137  44.92130  -74.89021   \n",
       "1  us/oh/washingtoncourthouse/530clintonave/-7914...  39.53255  -83.44526   \n",
       "2       us/ky/maysville/408marketsquaredr/1051460804  38.62736  -83.79141   \n",
       "3       us/ny/massena/6098statehighway37/-1161002137  44.95008  -74.84553   \n",
       "4               us/oh/athens/139columbusrd/990890980  39.35155  -82.09728   \n",
       "\n",
       "               name postalCode province  \\\n",
       "0        McDonald's      13662       NY   \n",
       "1           Wendy's      43160       OH   \n",
       "2  Frisch's Big Boy      41056       KY   \n",
       "3        McDonald's      13662       NY   \n",
       "4   OMG! Rotisserie      45701       OH   \n",
       "\n",
       "                                            websites  \n",
       "0  http://mcdonalds.com,http://www.mcdonalds.com/...  \n",
       "1                              http://www.wendys.com  \n",
       "2  http://www.frischs.com,https://www.frischs.com...  \n",
       "3  http://mcdonalds.com,http://www.mcdonalds.com/...  \n",
       "4  http://www.omgrotisserie.com,http://omgrotisse...  "
      ]
     },
     "execution_count": 26,
     "metadata": {},
     "output_type": "execute_result"
    }
   ],
   "source": [
    "df_ffr_new.drop('country', axis = 1,inplace = True)    #Dropping column 'country' since it has constant value 'US'\n",
    "df_ffr_new.head()"
   ]
  },
  {
   "cell_type": "markdown",
   "metadata": {},
   "source": [
    "#### Drop column 'keys' since this is a derived column"
   ]
  },
  {
   "cell_type": "code",
   "execution_count": 27,
   "metadata": {},
   "outputs": [
    {
     "data": {
      "text/html": [
       "<div>\n",
       "<style scoped>\n",
       "    .dataframe tbody tr th:only-of-type {\n",
       "        vertical-align: middle;\n",
       "    }\n",
       "\n",
       "    .dataframe tbody tr th {\n",
       "        vertical-align: top;\n",
       "    }\n",
       "\n",
       "    .dataframe thead th {\n",
       "        text-align: right;\n",
       "    }\n",
       "</style>\n",
       "<table border=\"1\" class=\"dataframe\">\n",
       "  <thead>\n",
       "    <tr style=\"text-align: right;\">\n",
       "      <th></th>\n",
       "      <th>address</th>\n",
       "      <th>city</th>\n",
       "      <th>latitude</th>\n",
       "      <th>longitude</th>\n",
       "      <th>name</th>\n",
       "      <th>postalCode</th>\n",
       "      <th>province</th>\n",
       "      <th>websites</th>\n",
       "    </tr>\n",
       "  </thead>\n",
       "  <tbody>\n",
       "    <tr>\n",
       "      <th>0</th>\n",
       "      <td>324 Main St</td>\n",
       "      <td>Massena</td>\n",
       "      <td>44.92130</td>\n",
       "      <td>-74.89021</td>\n",
       "      <td>McDonald's</td>\n",
       "      <td>13662</td>\n",
       "      <td>NY</td>\n",
       "      <td>http://mcdonalds.com,http://www.mcdonalds.com/...</td>\n",
       "    </tr>\n",
       "    <tr>\n",
       "      <th>1</th>\n",
       "      <td>530 Clinton Ave</td>\n",
       "      <td>Washington Court House</td>\n",
       "      <td>39.53255</td>\n",
       "      <td>-83.44526</td>\n",
       "      <td>Wendy's</td>\n",
       "      <td>43160</td>\n",
       "      <td>OH</td>\n",
       "      <td>http://www.wendys.com</td>\n",
       "    </tr>\n",
       "    <tr>\n",
       "      <th>2</th>\n",
       "      <td>408 Market Square Dr</td>\n",
       "      <td>Maysville</td>\n",
       "      <td>38.62736</td>\n",
       "      <td>-83.79141</td>\n",
       "      <td>Frisch's Big Boy</td>\n",
       "      <td>41056</td>\n",
       "      <td>KY</td>\n",
       "      <td>http://www.frischs.com,https://www.frischs.com...</td>\n",
       "    </tr>\n",
       "    <tr>\n",
       "      <th>3</th>\n",
       "      <td>6098 State Highway 37</td>\n",
       "      <td>Massena</td>\n",
       "      <td>44.95008</td>\n",
       "      <td>-74.84553</td>\n",
       "      <td>McDonald's</td>\n",
       "      <td>13662</td>\n",
       "      <td>NY</td>\n",
       "      <td>http://mcdonalds.com,http://www.mcdonalds.com/...</td>\n",
       "    </tr>\n",
       "    <tr>\n",
       "      <th>4</th>\n",
       "      <td>139 Columbus Rd</td>\n",
       "      <td>Athens</td>\n",
       "      <td>39.35155</td>\n",
       "      <td>-82.09728</td>\n",
       "      <td>OMG! Rotisserie</td>\n",
       "      <td>45701</td>\n",
       "      <td>OH</td>\n",
       "      <td>http://www.omgrotisserie.com,http://omgrotisse...</td>\n",
       "    </tr>\n",
       "  </tbody>\n",
       "</table>\n",
       "</div>"
      ],
      "text/plain": [
       "                 address                    city  latitude  longitude  \\\n",
       "0            324 Main St                 Massena  44.92130  -74.89021   \n",
       "1        530 Clinton Ave  Washington Court House  39.53255  -83.44526   \n",
       "2   408 Market Square Dr               Maysville  38.62736  -83.79141   \n",
       "3  6098 State Highway 37                 Massena  44.95008  -74.84553   \n",
       "4        139 Columbus Rd                  Athens  39.35155  -82.09728   \n",
       "\n",
       "               name postalCode province  \\\n",
       "0        McDonald's      13662       NY   \n",
       "1           Wendy's      43160       OH   \n",
       "2  Frisch's Big Boy      41056       KY   \n",
       "3        McDonald's      13662       NY   \n",
       "4   OMG! Rotisserie      45701       OH   \n",
       "\n",
       "                                            websites  \n",
       "0  http://mcdonalds.com,http://www.mcdonalds.com/...  \n",
       "1                              http://www.wendys.com  \n",
       "2  http://www.frischs.com,https://www.frischs.com...  \n",
       "3  http://mcdonalds.com,http://www.mcdonalds.com/...  \n",
       "4  http://www.omgrotisserie.com,http://omgrotisse...  "
      ]
     },
     "execution_count": 27,
     "metadata": {},
     "output_type": "execute_result"
    }
   ],
   "source": [
    "df_ffr_new.drop('keys', axis = 1,inplace = True)    #Dropping column 'keys' since this is a derived column\n",
    "df_ffr_new.head()"
   ]
  },
  {
   "cell_type": "markdown",
   "metadata": {},
   "source": [
    "#### No. of unique values of Restaurant names"
   ]
  },
  {
   "cell_type": "code",
   "execution_count": 28,
   "metadata": {},
   "outputs": [
    {
     "data": {
      "text/plain": [
       "McDonald's                               1886\n",
       "Burger King                              1154\n",
       "Taco Bell                                 873\n",
       "Wendy's                                   731\n",
       "Arby's                                    518\n",
       "KFC                                       421\n",
       "Domino's Pizza                            345\n",
       "Subway                                    322\n",
       "SONIC Drive In                            226\n",
       "Hardee's                                  192\n",
       "Jack in the Box                           187\n",
       "Jimmy John's                              157\n",
       "Pizza Hut                                 128\n",
       "Sonic Drive-In                            126\n",
       "Bojangles' Famous Chicken 'n Biscuits     126\n",
       "McDonalds                                 111\n",
       "Chick-fil-A                               100\n",
       "Five Guys                                  96\n",
       "Dairy Queen                                92\n",
       "Whataburger                                88\n",
       "Mcdonald's                                 85\n",
       "SUBWAY                                     82\n",
       "Taco John's                                77\n",
       "Carl's Jr.                                 74\n",
       "Waffle House                               74\n",
       "Krystal                                    64\n",
       "White Castle                               54\n",
       "Checkers                                   46\n",
       "Boston Market                              45\n",
       "Del Taco                                   44\n",
       "                                         ... \n",
       "BLIMPIE                                     1\n",
       "Northeastern State University               1\n",
       "Char-Grill                                  1\n",
       "World Wrapps                                1\n",
       "Fatburger                                   1\n",
       "Arby's Antigo                               1\n",
       "Rancher's Roast Beef Inc.                   1\n",
       "D'angelo Grilled Sandwiches                 1\n",
       "Burgerville, USA                            1\n",
       "Port Of Subs                                1\n",
       "Kfc - Kentucky Fried Chicken                1\n",
       "Ivar's Seafood Bar                          1\n",
       "Hardee's / Red Burrito / Dough Boys         1\n",
       "Bush's Chicken                              1\n",
       "Woody's Sloppy Dogs                         1\n",
       "Nielsen's Frozen Custard                    1\n",
       "Culvers                                     1\n",
       "Flash Foods / McDonald's                    1\n",
       "Hometown Buffet                             1\n",
       "Mayfair Boardwalk Grill                     1\n",
       "Boston Market 381                           1\n",
       "Dino's Gyros                                1\n",
       "Dual - Carls / Grn Burrito 1100654          1\n",
       "Carl's / Green Burrito                      1\n",
       "Tom's Grill                                 1\n",
       "Simmies Arirang Hill Cheese Steak           1\n",
       "Long John Silver's / A&W                    1\n",
       "Original Tracks                             1\n",
       "Cusinera                                    1\n",
       "The People Connection                       1\n",
       "Name: name, Length: 548, dtype: int64"
      ]
     },
     "execution_count": 28,
     "metadata": {},
     "output_type": "execute_result"
    }
   ],
   "source": [
    "df_ffr_new.name.value_counts()    #No. of unique values of Restaurant names"
   ]
  },
  {
   "cell_type": "markdown",
   "metadata": {},
   "source": [
    "#### Convert name to lower case to make uniform names"
   ]
  },
  {
   "cell_type": "code",
   "execution_count": 29,
   "metadata": {},
   "outputs": [
    {
     "data": {
      "text/html": [
       "<div>\n",
       "<style scoped>\n",
       "    .dataframe tbody tr th:only-of-type {\n",
       "        vertical-align: middle;\n",
       "    }\n",
       "\n",
       "    .dataframe tbody tr th {\n",
       "        vertical-align: top;\n",
       "    }\n",
       "\n",
       "    .dataframe thead th {\n",
       "        text-align: right;\n",
       "    }\n",
       "</style>\n",
       "<table border=\"1\" class=\"dataframe\">\n",
       "  <thead>\n",
       "    <tr style=\"text-align: right;\">\n",
       "      <th></th>\n",
       "      <th>address</th>\n",
       "      <th>city</th>\n",
       "      <th>latitude</th>\n",
       "      <th>longitude</th>\n",
       "      <th>name</th>\n",
       "      <th>postalCode</th>\n",
       "      <th>province</th>\n",
       "      <th>websites</th>\n",
       "    </tr>\n",
       "  </thead>\n",
       "  <tbody>\n",
       "    <tr>\n",
       "      <th>0</th>\n",
       "      <td>324 Main St</td>\n",
       "      <td>Massena</td>\n",
       "      <td>44.92130</td>\n",
       "      <td>-74.89021</td>\n",
       "      <td>mcdonald's</td>\n",
       "      <td>13662</td>\n",
       "      <td>NY</td>\n",
       "      <td>http://mcdonalds.com,http://www.mcdonalds.com/...</td>\n",
       "    </tr>\n",
       "    <tr>\n",
       "      <th>1</th>\n",
       "      <td>530 Clinton Ave</td>\n",
       "      <td>Washington Court House</td>\n",
       "      <td>39.53255</td>\n",
       "      <td>-83.44526</td>\n",
       "      <td>wendy's</td>\n",
       "      <td>43160</td>\n",
       "      <td>OH</td>\n",
       "      <td>http://www.wendys.com</td>\n",
       "    </tr>\n",
       "    <tr>\n",
       "      <th>2</th>\n",
       "      <td>408 Market Square Dr</td>\n",
       "      <td>Maysville</td>\n",
       "      <td>38.62736</td>\n",
       "      <td>-83.79141</td>\n",
       "      <td>frisch's big boy</td>\n",
       "      <td>41056</td>\n",
       "      <td>KY</td>\n",
       "      <td>http://www.frischs.com,https://www.frischs.com...</td>\n",
       "    </tr>\n",
       "    <tr>\n",
       "      <th>3</th>\n",
       "      <td>6098 State Highway 37</td>\n",
       "      <td>Massena</td>\n",
       "      <td>44.95008</td>\n",
       "      <td>-74.84553</td>\n",
       "      <td>mcdonald's</td>\n",
       "      <td>13662</td>\n",
       "      <td>NY</td>\n",
       "      <td>http://mcdonalds.com,http://www.mcdonalds.com/...</td>\n",
       "    </tr>\n",
       "    <tr>\n",
       "      <th>4</th>\n",
       "      <td>139 Columbus Rd</td>\n",
       "      <td>Athens</td>\n",
       "      <td>39.35155</td>\n",
       "      <td>-82.09728</td>\n",
       "      <td>omg! rotisserie</td>\n",
       "      <td>45701</td>\n",
       "      <td>OH</td>\n",
       "      <td>http://www.omgrotisserie.com,http://omgrotisse...</td>\n",
       "    </tr>\n",
       "  </tbody>\n",
       "</table>\n",
       "</div>"
      ],
      "text/plain": [
       "                 address                    city  latitude  longitude  \\\n",
       "0            324 Main St                 Massena  44.92130  -74.89021   \n",
       "1        530 Clinton Ave  Washington Court House  39.53255  -83.44526   \n",
       "2   408 Market Square Dr               Maysville  38.62736  -83.79141   \n",
       "3  6098 State Highway 37                 Massena  44.95008  -74.84553   \n",
       "4        139 Columbus Rd                  Athens  39.35155  -82.09728   \n",
       "\n",
       "               name postalCode province  \\\n",
       "0        mcdonald's      13662       NY   \n",
       "1           wendy's      43160       OH   \n",
       "2  frisch's big boy      41056       KY   \n",
       "3        mcdonald's      13662       NY   \n",
       "4   omg! rotisserie      45701       OH   \n",
       "\n",
       "                                            websites  \n",
       "0  http://mcdonalds.com,http://www.mcdonalds.com/...  \n",
       "1                              http://www.wendys.com  \n",
       "2  http://www.frischs.com,https://www.frischs.com...  \n",
       "3  http://mcdonalds.com,http://www.mcdonalds.com/...  \n",
       "4  http://www.omgrotisserie.com,http://omgrotisse...  "
      ]
     },
     "execution_count": 29,
     "metadata": {},
     "output_type": "execute_result"
    }
   ],
   "source": [
    "#Convert name to lower case\n",
    "df_ffr_new['name'] = df_ffr_new.name.apply(lambda x : x.lower())\n",
    "df_ffr_new.head()"
   ]
  },
  {
   "cell_type": "markdown",
   "metadata": {},
   "source": [
    "#### Remove punctuation from name"
   ]
  },
  {
   "cell_type": "code",
   "execution_count": 30,
   "metadata": {},
   "outputs": [
    {
     "data": {
      "text/html": [
       "<div>\n",
       "<style scoped>\n",
       "    .dataframe tbody tr th:only-of-type {\n",
       "        vertical-align: middle;\n",
       "    }\n",
       "\n",
       "    .dataframe tbody tr th {\n",
       "        vertical-align: top;\n",
       "    }\n",
       "\n",
       "    .dataframe thead th {\n",
       "        text-align: right;\n",
       "    }\n",
       "</style>\n",
       "<table border=\"1\" class=\"dataframe\">\n",
       "  <thead>\n",
       "    <tr style=\"text-align: right;\">\n",
       "      <th></th>\n",
       "      <th>address</th>\n",
       "      <th>city</th>\n",
       "      <th>latitude</th>\n",
       "      <th>longitude</th>\n",
       "      <th>name</th>\n",
       "      <th>postalCode</th>\n",
       "      <th>province</th>\n",
       "      <th>websites</th>\n",
       "    </tr>\n",
       "  </thead>\n",
       "  <tbody>\n",
       "    <tr>\n",
       "      <th>0</th>\n",
       "      <td>324 Main St</td>\n",
       "      <td>Massena</td>\n",
       "      <td>44.92130</td>\n",
       "      <td>-74.89021</td>\n",
       "      <td>mcdonalds</td>\n",
       "      <td>13662</td>\n",
       "      <td>NY</td>\n",
       "      <td>http://mcdonalds.com,http://www.mcdonalds.com/...</td>\n",
       "    </tr>\n",
       "    <tr>\n",
       "      <th>1</th>\n",
       "      <td>530 Clinton Ave</td>\n",
       "      <td>Washington Court House</td>\n",
       "      <td>39.53255</td>\n",
       "      <td>-83.44526</td>\n",
       "      <td>wendys</td>\n",
       "      <td>43160</td>\n",
       "      <td>OH</td>\n",
       "      <td>http://www.wendys.com</td>\n",
       "    </tr>\n",
       "    <tr>\n",
       "      <th>2</th>\n",
       "      <td>408 Market Square Dr</td>\n",
       "      <td>Maysville</td>\n",
       "      <td>38.62736</td>\n",
       "      <td>-83.79141</td>\n",
       "      <td>frischs big boy</td>\n",
       "      <td>41056</td>\n",
       "      <td>KY</td>\n",
       "      <td>http://www.frischs.com,https://www.frischs.com...</td>\n",
       "    </tr>\n",
       "    <tr>\n",
       "      <th>3</th>\n",
       "      <td>6098 State Highway 37</td>\n",
       "      <td>Massena</td>\n",
       "      <td>44.95008</td>\n",
       "      <td>-74.84553</td>\n",
       "      <td>mcdonalds</td>\n",
       "      <td>13662</td>\n",
       "      <td>NY</td>\n",
       "      <td>http://mcdonalds.com,http://www.mcdonalds.com/...</td>\n",
       "    </tr>\n",
       "    <tr>\n",
       "      <th>4</th>\n",
       "      <td>139 Columbus Rd</td>\n",
       "      <td>Athens</td>\n",
       "      <td>39.35155</td>\n",
       "      <td>-82.09728</td>\n",
       "      <td>omg rotisserie</td>\n",
       "      <td>45701</td>\n",
       "      <td>OH</td>\n",
       "      <td>http://www.omgrotisserie.com,http://omgrotisse...</td>\n",
       "    </tr>\n",
       "  </tbody>\n",
       "</table>\n",
       "</div>"
      ],
      "text/plain": [
       "                 address                    city  latitude  longitude  \\\n",
       "0            324 Main St                 Massena  44.92130  -74.89021   \n",
       "1        530 Clinton Ave  Washington Court House  39.53255  -83.44526   \n",
       "2   408 Market Square Dr               Maysville  38.62736  -83.79141   \n",
       "3  6098 State Highway 37                 Massena  44.95008  -74.84553   \n",
       "4        139 Columbus Rd                  Athens  39.35155  -82.09728   \n",
       "\n",
       "              name postalCode province  \\\n",
       "0        mcdonalds      13662       NY   \n",
       "1           wendys      43160       OH   \n",
       "2  frischs big boy      41056       KY   \n",
       "3        mcdonalds      13662       NY   \n",
       "4   omg rotisserie      45701       OH   \n",
       "\n",
       "                                            websites  \n",
       "0  http://mcdonalds.com,http://www.mcdonalds.com/...  \n",
       "1                              http://www.wendys.com  \n",
       "2  http://www.frischs.com,https://www.frischs.com...  \n",
       "3  http://mcdonalds.com,http://www.mcdonalds.com/...  \n",
       "4  http://www.omgrotisserie.com,http://omgrotisse...  "
      ]
     },
     "execution_count": 30,
     "metadata": {},
     "output_type": "execute_result"
    }
   ],
   "source": [
    "#Remove punctuation from name\n",
    "df_ffr_new.name = df_ffr_new.name.apply(lambda x:''.join([i for i in x \n",
    "                            if i not in string.punctuation]))\n",
    "df_ffr_new.head()"
   ]
  },
  {
   "cell_type": "markdown",
   "metadata": {},
   "source": [
    "#### Restaurant counts are updated post converting all names to lower and removing punctuation"
   ]
  },
  {
   "cell_type": "code",
   "execution_count": 31,
   "metadata": {},
   "outputs": [
    {
     "data": {
      "text/plain": [
       "mcdonalds                                           2105\n",
       "burger king                                         1154\n",
       "taco bell                                            873\n",
       "wendys                                               734\n",
       "arbys                                                520\n",
       "kfc                                                  441\n",
       "subway                                               404\n",
       "dominos pizza                                        359\n",
       "sonic drive in                                       248\n",
       "jack in the box                                      201\n",
       "hardees                                              194\n",
       "jimmy johns                                          163\n",
       "chickfila                                            146\n",
       "sonic drivein                                        138\n",
       "pizza hut                                            128\n",
       "bojangles famous chicken n biscuits                  126\n",
       "five guys                                             96\n",
       "dairy queen                                           92\n",
       "whataburger                                           88\n",
       "carls jr                                              85\n",
       "taco johns                                            77\n",
       "waffle house                                          74\n",
       "krystal                                               64\n",
       "white castle                                          54\n",
       "checkers                                              48\n",
       "boston market                                         45\n",
       "del taco                                              44\n",
       "quiznos                                               42\n",
       "culvers                                               39\n",
       "long john silvers                                     38\n",
       "                                                    ... \n",
       "lukes on harlem                                        1\n",
       "zitis italian express                                  1\n",
       "el tarasco mexican food                                1\n",
       "sonic drivein trailer                                  1\n",
       "loco moco driveinn                                     1\n",
       "freds store                                            1\n",
       "moes original bar b que                                1\n",
       "travelcenters of america                               1\n",
       "georges gyros spot                                     1\n",
       "bbt                                                    1\n",
       "charkies                                               1\n",
       "handys lunch                                           1\n",
       "omelette house                                         1\n",
       "stars drivein                                          1\n",
       "dairy queen grill  chill                               1\n",
       "dawg house grill                                       1\n",
       "7eleven                                                1\n",
       "coop deville                                           1\n",
       "dinos gyros                                            1\n",
       "boston chowda company                                  1\n",
       "pizza express                                          1\n",
       "garden fast food                                       1\n",
       "pizza hut wingstreet                                   1\n",
       "chesters grill                                         1\n",
       "j j fish and chicken                                   1\n",
       "tommys sub shop                                        1\n",
       "wings and philly                                       1\n",
       "shepards drivein                                       1\n",
       "taco casa                                              1\n",
       "cousins subs of green bay  oneida st  ramada way       1\n",
       "Name: name, Length: 490, dtype: int64"
      ]
     },
     "execution_count": 31,
     "metadata": {},
     "output_type": "execute_result"
    }
   ],
   "source": [
    "df_ffr_new.name.value_counts()    #Restaurant names value counts are updated post conevrting all names to lower and removing punctuation "
   ]
  },
  {
   "cell_type": "code",
   "execution_count": 32,
   "metadata": {},
   "outputs": [
    {
     "data": {
      "text/plain": [
       "array(['mcdonalds', 'wendys', 'frischs big boy', 'omg rotisserie',\n",
       "       'dominos pizza', 'pizza hut', 'sonic drive in',\n",
       "       'long john silvers', 'taco bell', 'qdoba mexican grill',\n",
       "       'sonic drivein', 'taco johns', 'whataburger', 'hamburger king',\n",
       "       'burger king', 'taco time', 'jimmy johns', 'jersey mikes subs',\n",
       "       'popeyes louisiana kitchen', 'hardees', 'rallys', 'quiznos',\n",
       "       'jack in the box', 'subway', 'mr hero', 'amigoskings classic',\n",
       "       'raising canes chicken fingers', 'coop deville', 'b good',\n",
       "       'back yard burgers', 'arbys', 'pacific rim', 'panda express',\n",
       "       'chickfila', 'captain ds', 'samurai sams',\n",
       "       'northeastern state university', 'sarku japan', 'five guys',\n",
       "       'pei wei', 'krystal', 'baja fresh',\n",
       "       'bojangles famous chicken n biscuits', 'pollo tropical',\n",
       "       'waffle house', 'popeyes chicken  biscuits', 'checkers',\n",
       "       'integrated therapy specialists arnold d larson', 'kfc',\n",
       "       'dairy queen', 'penguin point', 'goodcents deli fresh subs',\n",
       "       'white castle', 'culvers', 'churchs chicken', 'kfc  taco bell',\n",
       "       'jacks grocery', 'chipotle mexican grill', 'subway®',\n",
       "       'ernies all american burger', 'windmill gourmet fast foods',\n",
       "       'bgood', 'boston market', 'dunkin donuts',\n",
       "       'moes original bar b que', 'penn station east coast subs',\n",
       "       'carls jr', 'cook out', 'innout burger', 'del taco',\n",
       "       'nicks burgers', 'bakers drive thru', 'mc donalds',\n",
       "       'mickeys gyros  ribs', 'sensenig poultry llc', 'frugals',\n",
       "       'seaside eatery', 'fazolis', 'wetzels pretzels', 'ryans',\n",
       "       'steak n shake', 'grannys drivein', 'jollys drivein', 'blondies',\n",
       "       'great steak', 'sonic', 'lees famous recipe chicken',\n",
       "       'little caesars pizza', 'dairy freeze', 'qdoba mexican eats',\n",
       "       'lime ricky world', 'taco mayo', 'awlong john silvers',\n",
       "       'pick up stix', 'dairy cheer', 'fallguys burger company',\n",
       "       'golden chick', 'mclarens pantry', 'red robin gourmet burgers',\n",
       "       'buds chicken  seafood', 'sconecutter', 'zips hamburgers and fish',\n",
       "       'rushs', 'el pollo loco', 'gold star chili',\n",
       "       'moes southwest grill', 'popeyes chicken and biscuits',\n",
       "       'pizza barn', 'taco casa', 'taco bueno', 'toms drive in',\n",
       "       'tudors biscuit world', 'kasas pizza', 'skyline chili',\n",
       "       'deweys pizza', 'custard hut  pizza', 'papa johns pizza',\n",
       "       'tacotime', 'blakes lotaburger', 'panera bread', 'cookout',\n",
       "       'georges gyros spot', 'el paragua restaurant',\n",
       "       'captain ds seafood', 'burger time', 'chicken express',\n",
       "       'kfc  kentucky fried chicken', 'cherry hill drive in ice cream',\n",
       "       'flip burger bar', 'greyhound', 'noodles  company',\n",
       "       'pals sudden service', 'arctic circle', 'bob evans',\n",
       "       'don  millies', 'old country buffet', 'tommys sub shop',\n",
       "       'roy rogers', 'big  littles restaurant', 'cafe rio', 'chargrill',\n",
       "       'crispy chicken  seafood', 'toppers pizza', 'lions choice',\n",
       "       'kum  go', 'taco delight', 'kennys drivein', 'pita pit',\n",
       "       'mooyah burgers fries  shakes', 'the pita pit', 'slim chickens',\n",
       "       'shot tower inn', 'handys lunch', 'meatheads', 'aw restaurant',\n",
       "       'jack pirtles chicken', 'dairy isle', 'hardees  red burrito',\n",
       "       'runza', 'shoneys on the go', 'richies restaurant',\n",
       "       'yellow cab pizza co', 'jacks', 'rallys hamburgers',\n",
       "       'ranchers roast beef inc', 'pizza factory', 'inatub',\n",
       "       'crystal restaurant', 'burgers landing', 'isabellas pizzeria',\n",
       "       'fatburger', 'sunrise cafe', 'round table pizza',\n",
       "       'capt crabs takeaway', 'ben  jerrys', 'auntie annes',\n",
       "       'baskinrobbins', '31st avenue gyro', 'au bon pain', 'saladworks',\n",
       "       'baja fresh mexican grill', 'papa johns',\n",
       "       'good times burgers  frozen custard', 'johnny rockets', 'wingstop',\n",
       "       'lubys', 'mayfair boardwalk grill', 'ninos pizza',\n",
       "       'marias fry bread  mexican food', 'taco del mar', 'wingstreet',\n",
       "       'charleys philly steaks', 'papa john’s pizza', 'nicks gyros',\n",
       "       'southaphilly steaks and hoagies',\n",
       "       'dq grill  chill  orange julius', 'lennys sub shop', 'popeyes',\n",
       "       'taco local', 'stars drivein', 'firehouse subs', 'original tracks',\n",
       "       'thrashers french fries', 'subway citgo of quarryville', 'fuku',\n",
       "       'capriottis sandwich shop', 'eldon drive in',\n",
       "       'petros chili  chips', 'the halal guys', 'ny chicken fish',\n",
       "       'thunder ridge ampride', 'twisters', 'tasty carryout',\n",
       "       'hub city express', 'shloma inc', 'bravo tacos', 'papagus gyros',\n",
       "       'dq grill  chill', 'taqueria', 'a  w family restaurant',\n",
       "       'los verdes', 'taco cabana', 'bad daddys burger bar',\n",
       "       'ajs hotdogs  gyros', 'rubios coastal grill', 'papa ginos',\n",
       "       'cusinera', 'st louis original hamburgers', 'circle drive in',\n",
       "       'woodys sloppy dogs', 'kum go', 'jcws', 'the people connection',\n",
       "       'hot dog heaven', 'the great steak  potato co',\n",
       "       'jims coney island', 'charcoal delights', 'sheetz',\n",
       "       'mcdonalds  old atlanta', 'hungry andys', 'port of subs',\n",
       "       'hot dog on a stick', 'carls  green burrito',\n",
       "       'wus fine chinese cuisine', 'kfctaco bell', 'steakout',\n",
       "       'wings n more wings', 'p terrys', 'j j fish and chicken', 'aw',\n",
       "       'kentucky fried chicken', 'greek oven pizza and wings',\n",
       "       'wienerschnitzel', 'city bites', 'smoothie king',\n",
       "       'bobbys burger palace', 'smashburger', 'hometown buffet',\n",
       "       'dairy queen grill  chill', 'the biscuit factory',\n",
       "       'subway johnson  jonesboro', 'china king', 'stripes store 2276',\n",
       "       'hotdoks', 'aw allamerican food', 'shepards drivein',\n",
       "       'mcdonalds of mililani mauka', 'mariu kebabberia gastronomica',\n",
       "       'tropical smoothie cafe', 'freds store', 'bamboo bistro',\n",
       "       'raising canes', 'locol', 'quick', 'backyard burgers',\n",
       "       'jim bobs chicken fingers', 'islands restaurant',\n",
       "       'charlies chicken', 'famous daves', 'dawg house grill',\n",
       "       'carls jr  green burrito', 'jimmy johns gourmet sandwiches',\n",
       "       'the agora', 'codys cafe', 'mcdonalds  walmart', 'mcalisters deli',\n",
       "       'bbt', 'flash foods  mcdonalds', 'b z breakfast burgers beyond',\n",
       "       'farmer boys', 'milos hamburgers', 'wings and philly',\n",
       "       'aw all american food', 'nathans famous', 'giannis pizza',\n",
       "       'richs mighty fine burgers grub', 'bob evans restaurant',\n",
       "       'spangles', 'chuck wagon', 'chicken house', 'dinos gyros',\n",
       "       'jamjam', 'fab wings n burgers', 'pizza one', 'the chicken place',\n",
       "       'chickfila superstition springs center', 'pollo campero',\n",
       "       'rahway chicken  burger inc', 'sbarro', 'the pizza pipe line',\n",
       "       'omega drivein', 'china buddha inn ii', 'genos fast break',\n",
       "       'jersey jacks eatery', 'hardees  red burrito  dough boys',\n",
       "       'kettle restaurant', 'hoka hoka bento', 'iceberg drive inn',\n",
       "       'regal cinemas tikahtnu  16 imax  rpx',\n",
       "       'marios natural roman pizza', 'music city subs',\n",
       "       'chickfila orange avenue', 'gyros kings', 'mcdonald’s',\n",
       "       'einstein bros bagels', 'blimpie', 'aw allamerican foods',\n",
       "       'sammy carryout', 'redbox', 'little caesars pizza smithfield',\n",
       "       'checkers burgers and fries', 'kerbys koney island',\n",
       "       'll hawaiian barbecue', 'braums ice cream  dairy store',\n",
       "       'tellers tap room  kitchen', 'arbys antigo', 'furrs',\n",
       "       'subway sandwiches and salads', 'bills place', 'burger king salou',\n",
       "       'shoprite', 'wendy two two eight', 'braums', 'boston market 381',\n",
       "       'great steak  potato co', 'blimpie subs  sandwiches',\n",
       "       'mr charburger', 'yum brands inc', 'ama ristorante',\n",
       "       'popeyes chicken', 'the honeybaked ham company', 'snack shack',\n",
       "       'boston chowda company', 'long john silvers  aw',\n",
       "       'aprisa mexican cuisine', 'white manna hamburgers', 'food 4 less',\n",
       "       'starbucks', 'brixtons', 'dairy queen  round rock', 'peking wok',\n",
       "       'panda', 'popanugget', 'roly poly', 'kfc  aw',\n",
       "       'subway  roland park', 'garden catering', 'fosters freeze',\n",
       "       'rapid rays', 'portillos', 'vista drive in', 'toms grill',\n",
       "       'yoshinoya', 'subway  bells ferry', 'pizza hut wingstreet',\n",
       "       'travelcenters of america', 'dangelo grilled sandwiches',\n",
       "       'fitness 19', 'royal buffet', 'cousins subs',\n",
       "       'lanesplitter pizza  pub', 'world wrapps', 'hunam garden',\n",
       "       'soulfish grill', 'kams chop suey', 'zitis italian express',\n",
       "       'rallys springfield', 'subway sandwiches', 'home town buffet',\n",
       "       'checkers drivein restaurant', 'grandys', 'maui tacos',\n",
       "       'checkers hamburgers', 'rafaels', 'crown fried chicken',\n",
       "       'garden fast food', 'froots', 'luxor food court', 'subway guitars',\n",
       "       'loves', 'cypress best', 'siam to go', 'bushs chicken',\n",
       "       'chickfila truetts luau', 'strongwater spirits  botanicals',\n",
       "       'the break away sports cafe', 'charleys grilled subs',\n",
       "       'mcdonalds 25557', 'rockys', 'chesters grill', '711', 'zaxbys',\n",
       "       'osgoods', 'dans seafood  chicken', 'jasons deli',\n",
       "       'breadeaux pizza', 'sonic drivein trailer', 'steak escape',\n",
       "       '7eleven', 'jollibee', 'kennedy fried chicken  pizza',\n",
       "       'mocha express', 'taco bellpizza hut express', 'schlotzskys',\n",
       "       'charlie browns', 'ball state lafollette dining',\n",
       "       'tubbys grilled submarines', 'quiznos ', 'comilao lanches bakery',\n",
       "       'gabbys burgers  fries', 'loco moco driveinn', 'pizza express',\n",
       "       'alices', 'king grill', 'freddys steakburger',\n",
       "       'cousins subs of green bay  oneida st  ramada way', 'everest',\n",
       "       'jamba juice', 'quiznos sub', 'exxon', 'bgr  the burger joint',\n",
       "       'chickfila magnolia mall', 'tom  jerrys', 'ivars seafood bar',\n",
       "       'luna corner pizza', 'scoopers', 'eagans drivein',\n",
       "       'omelette house', 'hermosa', 'costa vida fresh mexican grill',\n",
       "       'simmies arirang hill cheese steak', 'chris drivein',\n",
       "       'the flame broiler', 'dq woodlands', 'rubios', 'burgerville',\n",
       "       'lukes on harlem', 'madison street subs', 'fresh city', 'dentons',\n",
       "       'teddys bigger burgers', 'dairy queen grill  chill  orange julius',\n",
       "       'elevation burger', 'your healthy habit',\n",
       "       'mazatlan mexican restaurant', 'kim lee fast food', 'cinnabon',\n",
       "       'china king restaurant', 'chickenow',\n",
       "       'chicago union station food court', 'paesanos', 'b k',\n",
       "       'pizza primetime', 'convergence zone', 'the press club',\n",
       "       'costa vida', 'hegenburgers', 'petes burgers',\n",
       "       'dual  carls  grn burrito 1100654', 'kings contrivance jewelers',\n",
       "       'great steak and potato co', 'nielsens frozen custard',\n",
       "       'tinas carryout restaurant', 'long john silver aw',\n",
       "       'cars late night delivery', 'charkies', 'el tarasco mexican food',\n",
       "       'burgerville usa', 'italian pizzeria restaurant',\n",
       "       'lees oriental martial arts'], dtype=object)"
      ]
     },
     "execution_count": 32,
     "metadata": {},
     "output_type": "execute_result"
    }
   ],
   "source": [
    "df_ffr_new.name.unique()"
   ]
  },
  {
   "cell_type": "markdown",
   "metadata": {},
   "source": [
    "#### Clean 'name' values"
   ]
  },
  {
   "cell_type": "code",
   "execution_count": 33,
   "metadata": {},
   "outputs": [
    {
     "name": "stdout",
     "output_type": "stream",
     "text": [
      "mc donalds  is replaced with mcdonalds\n",
      "mc donalds  is replaced with mcdonalds\n",
      "mc donalds  is replaced with mcdonalds\n",
      "mcdonalds  old atlanta  is replaced with mcdonalds\n",
      "mc donalds  is replaced with mcdonalds\n",
      "mcdonalds of mililani mauka  is replaced with mcdonalds\n",
      "mc donalds  is replaced with mcdonalds\n",
      "mcdonalds  walmart  is replaced with mcdonalds\n",
      "mc donalds  is replaced with mcdonalds\n",
      "flash foods  mcdonalds  is replaced with mcdonalds\n",
      "mcdonald’s  is replaced with mcdonalds\n",
      "mc donalds  is replaced with mcdonalds\n",
      "mc donalds  is replaced with mcdonalds\n",
      "mcdonalds 25557  is replaced with mcdonalds\n",
      "mc donalds  is replaced with mcdonalds\n",
      "mc donalds  is replaced with mcdonalds\n",
      "wendy two two eight  is replaced with wendys\n",
      "sonic drivein  is replaced with sonic drive in\n",
      "sonic drivein  is replaced with sonic drive in\n",
      "sonic drivein  is replaced with sonic drive in\n",
      "sonic drivein  is replaced with sonic drive in\n",
      "sonic drivein  is replaced with sonic drive in\n",
      "sonic drivein  is replaced with sonic drive in\n",
      "sonic drivein  is replaced with sonic drive in\n",
      "sonic drivein  is replaced with sonic drive in\n",
      "sonic drivein  is replaced with sonic drive in\n",
      "sonic drivein  is replaced with sonic drive in\n",
      "sonic drivein  is replaced with sonic drive in\n",
      "sonic drivein  is replaced with sonic drive in\n",
      "sonic drivein  is replaced with sonic drive in\n",
      "sonic drivein  is replaced with sonic drive in\n",
      "sonic drivein  is replaced with sonic drive in\n",
      "sonic drivein  is replaced with sonic drive in\n",
      "sonic drivein  is replaced with sonic drive in\n",
      "sonic drivein  is replaced with sonic drive in\n",
      "sonic drivein  is replaced with sonic drive in\n",
      "sonic drivein  is replaced with sonic drive in\n",
      "sonic drivein  is replaced with sonic drive in\n",
      "sonic drivein  is replaced with sonic drive in\n",
      "sonic drivein  is replaced with sonic drive in\n",
      "sonic drivein  is replaced with sonic drive in\n",
      "sonic drivein  is replaced with sonic drive in\n",
      "sonic drivein  is replaced with sonic drive in\n",
      "sonic drivein  is replaced with sonic drive in\n",
      "sonic drivein  is replaced with sonic drive in\n",
      "sonic drivein  is replaced with sonic drive in\n",
      "sonic drivein  is replaced with sonic drive in\n",
      "sonic drivein  is replaced with sonic drive in\n",
      "sonic drivein  is replaced with sonic drive in\n",
      "sonic drivein  is replaced with sonic drive in\n",
      "sonic drivein  is replaced with sonic drive in\n",
      "sonic drivein  is replaced with sonic drive in\n",
      "sonic drivein  is replaced with sonic drive in\n",
      "sonic drivein  is replaced with sonic drive in\n",
      "sonic drivein  is replaced with sonic drive in\n",
      "sonic drivein  is replaced with sonic drive in\n",
      "sonic drivein  is replaced with sonic drive in\n",
      "sonic drivein  is replaced with sonic drive in\n",
      "sonic drivein  is replaced with sonic drive in\n",
      "sonic drivein  is replaced with sonic drive in\n",
      "sonic drivein  is replaced with sonic drive in\n",
      "sonic drivein  is replaced with sonic drive in\n",
      "sonic drivein  is replaced with sonic drive in\n",
      "sonic drivein  is replaced with sonic drive in\n",
      "sonic drivein  is replaced with sonic drive in\n",
      "sonic drivein  is replaced with sonic drive in\n",
      "sonic drivein  is replaced with sonic drive in\n",
      "sonic drivein  is replaced with sonic drive in\n",
      "sonic drivein  is replaced with sonic drive in\n",
      "sonic drivein  is replaced with sonic drive in\n",
      "sonic drivein  is replaced with sonic drive in\n",
      "sonic drivein  is replaced with sonic drive in\n",
      "sonic drivein  is replaced with sonic drive in\n",
      "sonic drivein  is replaced with sonic drive in\n",
      "sonic drivein  is replaced with sonic drive in\n",
      "sonic drivein  is replaced with sonic drive in\n",
      "sonic drivein  is replaced with sonic drive in\n",
      "sonic drivein  is replaced with sonic drive in\n",
      "sonic drivein  is replaced with sonic drive in\n",
      "sonic drivein  is replaced with sonic drive in\n",
      "sonic drivein  is replaced with sonic drive in\n",
      "sonic drivein  is replaced with sonic drive in\n",
      "sonic drivein  is replaced with sonic drive in\n",
      "sonic drivein  is replaced with sonic drive in\n",
      "sonic drivein  is replaced with sonic drive in\n",
      "sonic drivein  is replaced with sonic drive in\n",
      "sonic drivein  is replaced with sonic drive in\n",
      "sonic drivein  is replaced with sonic drive in\n",
      "sonic drivein  is replaced with sonic drive in\n",
      "sonic drivein  is replaced with sonic drive in\n",
      "sonic drivein  is replaced with sonic drive in\n",
      "sonic drivein  is replaced with sonic drive in\n",
      "sonic drivein  is replaced with sonic drive in\n",
      "sonic drivein  is replaced with sonic drive in\n",
      "sonic drivein  is replaced with sonic drive in\n",
      "sonic drivein  is replaced with sonic drive in\n",
      "sonic drivein  is replaced with sonic drive in\n",
      "sonic drivein  is replaced with sonic drive in\n",
      "sonic drivein  is replaced with sonic drive in\n",
      "sonic drivein  is replaced with sonic drive in\n",
      "sonic drivein  is replaced with sonic drive in\n",
      "sonic drivein  is replaced with sonic drive in\n",
      "sonic drivein  is replaced with sonic drive in\n",
      "sonic drivein  is replaced with sonic drive in\n",
      "sonic drivein  is replaced with sonic drive in\n",
      "sonic drivein  is replaced with sonic drive in\n",
      "sonic drivein  is replaced with sonic drive in\n",
      "sonic drivein  is replaced with sonic drive in\n",
      "sonic drivein  is replaced with sonic drive in\n",
      "sonic drivein  is replaced with sonic drive in\n",
      "sonic drivein  is replaced with sonic drive in\n",
      "sonic drivein  is replaced with sonic drive in\n",
      "sonic drivein  is replaced with sonic drive in\n",
      "sonic drivein  is replaced with sonic drive in\n",
      "sonic drivein  is replaced with sonic drive in\n",
      "sonic drivein  is replaced with sonic drive in\n",
      "sonic drivein  is replaced with sonic drive in\n",
      "sonic drivein  is replaced with sonic drive in\n",
      "sonic drivein  is replaced with sonic drive in\n",
      "sonic drivein  is replaced with sonic drive in\n",
      "sonic drivein  is replaced with sonic drive in\n",
      "sonic drivein  is replaced with sonic drive in\n",
      "sonic drivein  is replaced with sonic drive in\n",
      "sonic drivein  is replaced with sonic drive in\n",
      "sonic drivein  is replaced with sonic drive in\n",
      "sonic drivein  is replaced with sonic drive in\n",
      "sonic drivein  is replaced with sonic drive in\n",
      "sonic drivein  is replaced with sonic drive in\n",
      "sonic drivein  is replaced with sonic drive in\n",
      "sonic drivein  is replaced with sonic drive in\n",
      "sonic drivein  is replaced with sonic drive in\n",
      "sonic drivein  is replaced with sonic drive in\n",
      "sonic drivein  is replaced with sonic drive in\n",
      "sonic drivein  is replaced with sonic drive in\n",
      "sonic drivein  is replaced with sonic drive in\n",
      "sonic drivein  is replaced with sonic drive in\n",
      "sonic drivein trailer  is replaced with sonic drive in\n",
      "sonic drivein  is replaced with sonic drive in\n",
      "sonic drivein  is replaced with sonic drive in\n",
      "sonic drivein  is replaced with sonic drive in\n",
      "sonic drivein  is replaced with sonic drive in\n",
      "sonic drivein  is replaced with sonic drive in\n",
      "sonic drivein  is replaced with sonic drive in\n",
      "sonic drivein  is replaced with sonic drive in\n",
      "sonic drivein  is replaced with sonic drive in\n",
      "sonic drivein  is replaced with sonic drive in\n",
      "sonic drivein  is replaced with sonic drive in\n",
      "sonic drivein  is replaced with sonic drive in\n",
      "sonic drivein  is replaced with sonic drive in\n",
      "sonic drivein  is replaced with sonic drive in\n",
      "sonic drivein  is replaced with sonic drive in\n",
      "sonic drivein  is replaced with sonic drive in\n",
      "sonic drivein  is replaced with sonic drive in\n",
      "sonic drivein  is replaced with sonic drive in\n",
      "sonic drivein  is replaced with sonic drive in\n",
      "sonic drivein  is replaced with sonic drive in\n",
      "awlong john silvers  is replaced with long john silvers\n",
      "long john silvers  aw  is replaced with long john silvers\n",
      "long john silvers  aw  is replaced with long john silvers\n",
      "long john silver aw  is replaced with long john silvers\n",
      "taco bellpizza hut express  is replaced with taco bell\n",
      "papa john’s pizza  is replaced with papa johns pizza\n",
      "burger king salou  is replaced with burger king\n",
      "tacotime  is replaced with taco time\n",
      "tacotime  is replaced with taco time\n",
      "tacotime  is replaced with taco time\n",
      "jimmy johns gourmet sandwiches  is replaced with jimmy johns\n",
      "rallys hamburgers  is replaced with rallys\n",
      "rallys hamburgers  is replaced with rallys\n",
      "rallys hamburgers  is replaced with rallys\n",
      "rallys hamburgers  is replaced with rallys\n",
      "rallys springfield  is replaced with rallys\n",
      "rallys hamburgers  is replaced with rallys\n",
      "quiznos   is replaced with quiznos\n",
      "quiznos sub  is replaced with quiznos\n",
      "quiznos sub  is replaced with quiznos\n",
      "subway®  is replaced with subway\n"
     ]
    },
    {
     "name": "stdout",
     "output_type": "stream",
     "text": [
      "subway citgo of quarryville  is replaced with subway\n",
      "subway johnson  jonesboro  is replaced with subway\n",
      "subway sandwiches and salads  is replaced with subway\n",
      "subway  roland park  is replaced with subway\n",
      "subway  bells ferry  is replaced with subway\n",
      "subway sandwiches  is replaced with subway\n",
      "subway guitars  is replaced with subway\n",
      "subway®  is replaced with subway\n",
      "arbys antigo  is replaced with arbys\n",
      "kfc  taco bell  is replaced with kfc\n",
      "kfc  kentucky fried chicken  is replaced with kfc\n",
      "kfc  taco bell  is replaced with kfc\n",
      "kfctaco bell  is replaced with kfc\n",
      "kfc  taco bell  is replaced with kfc\n",
      "kfctaco bell  is replaced with kfc\n",
      "kfc  kentucky fried chicken  is replaced with kfc\n",
      "kfc  aw  is replaced with kfc\n",
      "kfc  kentucky fried chicken  is replaced with kfc\n",
      "aw allamerican food  is replaced with aw all american food\n",
      "aw allamerican food  is replaced with aw all american food\n",
      "aw allamerican food  is replaced with aw all american food\n",
      "aw allamerican foods  is replaced with aw all american food\n",
      "aw allamerican food  is replaced with aw all american food\n"
     ]
    }
   ],
   "source": [
    "#clean 'name' values\n",
    "\n",
    "#Make name groups\n",
    "mcdonald_str = [\"mcdonalds\", \"mc donalds\", \"mcdonalds  old atlanta\", \"mcdonalds of mililani mauka\", \"mcdonalds  walmart\", \"flash foods  mcdonalds\", \"mcdonald’s\", \"mcdonalds 25557\"]\n",
    "wendy_str = [\"wendys\", \"wendy two two eight\"]\n",
    "sonic_str = [\"sonic drive in\", \"sonic drivein\", \"sonic\", \"sonic drivein trailer\"]\n",
    "johnsilver_str = [\"long john silvers\", \"awlong john silvers\", \"long john silvers  aw\", \"long john silver aw\"]\n",
    "tacobell_str = [\"taco bell\", \"taco bellpizza hut express\"]\n",
    "papajohns_str = [\"papa johns pizza\", \"papa johns\", \"papa john’s pizza\"]\n",
    "burgerking_str = [\"burger king\", \"burger king salou\"]\n",
    "tacotime_str = [\"taco time\", \"tacotime\"]\n",
    "jimmyjohns_str = [\"jimmy johns\", \"jimmy johns gourmet sandwiches\"]\n",
    "rallys_str = [\"rallys\", \"rallys hamburgers\", \"rallys springfield\"]\n",
    "quiznos_str = [\"quiznos\", \"quiznos \", \"quiznos sub\"]\n",
    "subway_str = [\"subway\", \"subway®\", \"subway citgo of quarryville\", \"subway johnson  jonesboro\", \"subway sandwiches and salads\", \"subway  roland park\", \"subway  bells ferry\", \"subway sandwiches\", \"subway guitars\"]\n",
    "raisingcanes_str = [\"raising canes chicken fingers\", \"raising canes\"]\n",
    "arbys_str = [\"arbys\", \"arbys antigo\"]\n",
    "panda_str = [\"panda express\", \"panda\"]\n",
    "kfc_str = [\"kfc\", \"kfc  taco bell\", \"kfc  kentucky fried chicken\", \"kfctaco bell\", \"kfc  aw\"]\n",
    "allamerican_str = [\"aw all american food\", \"aw allamerican food\", \"aw allamerican foods\"]\n",
    "\n",
    "def clean_name(toReplaceList, toReplaceValue):\n",
    "    for (row, col) in df_ffr_new.iterrows():\n",
    "\n",
    "        if (col['name'] in toReplaceList):\n",
    "            if col['name'] not in toReplaceValue:\n",
    "                print(col['name'], ' is replaced with', toReplaceValue)\n",
    "                df_ffr_new['name'].replace(to_replace=col['name'], value=toReplaceValue, inplace=True)\n",
    "\n",
    "#df_ffr_new['name'] = df_ffr_new['name'].apply(clean_name)\n",
    "\n",
    "clean_name(mcdonald_str, mcdonald_str[0])  #16\n",
    "clean_name(wendy_str, wendy_str[0])\n",
    "clean_name(sonic_str, sonic_str[0])\n",
    "clean_name(johnsilver_str, johnsilver_str[0])\n",
    "clean_name(tacobell_str, tacobell_str[0])\n",
    "clean_name(papajohns_str, papajohns_str[0])\n",
    "clean_name(burgerking_str, burgerking_str[0])\n",
    "clean_name(tacotime_str, tacotime_str[0])\n",
    "clean_name(jimmyjohns_str, jimmyjohns_str[0])\n",
    "clean_name(rallys_str, rallys_str[0])\n",
    "clean_name(quiznos_str, quiznos_str[0])\n",
    "clean_name(subway_str, subway_str[0])\n",
    "clean_name(raisingcanes_str, raisingcanes_str[0])\n",
    "clean_name(arbys_str, arbys_str[0])\n",
    "clean_name(panda_str, panda_str[0])\n",
    "clean_name(kfc_str, kfc_str[0])\n",
    "clean_name(allamerican_str, allamerican_str[0])\n"
   ]
  },
  {
   "cell_type": "markdown",
   "metadata": {},
   "source": [
    "#### Restaurant count further updated post 'name cleaning "
   ]
  },
  {
   "cell_type": "code",
   "execution_count": 35,
   "metadata": {},
   "outputs": [
    {
     "data": {
      "text/plain": [
       "mcdonalds                                           2121\n",
       "burger king                                         1155\n",
       "taco bell                                            874\n",
       "wendys                                               735\n",
       "arbys                                                521\n",
       "kfc                                                  450\n",
       "subway                                               413\n",
       "sonic drive in                                       387\n",
       "dominos pizza                                        359\n",
       "jack in the box                                      201\n",
       "hardees                                              194\n",
       "jimmy johns                                          164\n",
       "chickfila                                            146\n",
       "pizza hut                                            128\n",
       "bojangles famous chicken n biscuits                  126\n",
       "five guys                                             96\n",
       "dairy queen                                           92\n",
       "whataburger                                           88\n",
       "carls jr                                              85\n",
       "taco johns                                            77\n",
       "waffle house                                          74\n",
       "krystal                                               64\n",
       "white castle                                          54\n",
       "checkers                                              48\n",
       "boston market                                         45\n",
       "quiznos                                               45\n",
       "del taco                                              44\n",
       "long john silvers                                     42\n",
       "rallys                                                40\n",
       "culvers                                               39\n",
       "                                                    ... \n",
       "pizza primetime                                        1\n",
       "bushs chicken                                          1\n",
       "siam to go                                             1\n",
       "great steak  potato co                                 1\n",
       "richies restaurant                                     1\n",
       "kim lee fast food                                      1\n",
       "travelcenters of america                               1\n",
       "shepards drivein                                       1\n",
       "ama ristorante                                         1\n",
       "wings and philly                                       1\n",
       "moes original bar b que                                1\n",
       "georges gyros spot                                     1\n",
       "bbt                                                    1\n",
       "charkies                                               1\n",
       "handys lunch                                           1\n",
       "omelette house                                         1\n",
       "stars drivein                                          1\n",
       "dairy queen grill  chill                               1\n",
       "dawg house grill                                       1\n",
       "7eleven                                                1\n",
       "coop deville                                           1\n",
       "dinos gyros                                            1\n",
       "boston chowda company                                  1\n",
       "pizza express                                          1\n",
       "garden fast food                                       1\n",
       "pizza hut wingstreet                                   1\n",
       "chesters grill                                         1\n",
       "j j fish and chicken                                   1\n",
       "tommys sub shop                                        1\n",
       "cousins subs of green bay  oneida st  ramada way       1\n",
       "Name: name, Length: 453, dtype: int64"
      ]
     },
     "execution_count": 35,
     "metadata": {},
     "output_type": "execute_result"
    }
   ],
   "source": [
    "df_ffr_new.name.value_counts()   #Restaurant name value count is updated post 'name cleaning "
   ]
  },
  {
   "cell_type": "markdown",
   "metadata": {},
   "source": [
    "#### Check occurences of province 'Co Spgs' for correcting to 'CO'"
   ]
  },
  {
   "cell_type": "code",
   "execution_count": 36,
   "metadata": {},
   "outputs": [
    {
     "data": {
      "text/html": [
       "<div>\n",
       "<style scoped>\n",
       "    .dataframe tbody tr th:only-of-type {\n",
       "        vertical-align: middle;\n",
       "    }\n",
       "\n",
       "    .dataframe tbody tr th {\n",
       "        vertical-align: top;\n",
       "    }\n",
       "\n",
       "    .dataframe thead th {\n",
       "        text-align: right;\n",
       "    }\n",
       "</style>\n",
       "<table border=\"1\" class=\"dataframe\">\n",
       "  <thead>\n",
       "    <tr style=\"text-align: right;\">\n",
       "      <th></th>\n",
       "      <th>address</th>\n",
       "      <th>city</th>\n",
       "      <th>latitude</th>\n",
       "      <th>longitude</th>\n",
       "      <th>name</th>\n",
       "      <th>postalCode</th>\n",
       "      <th>province</th>\n",
       "      <th>websites</th>\n",
       "    </tr>\n",
       "  </thead>\n",
       "  <tbody>\n",
       "    <tr>\n",
       "      <th>6754</th>\n",
       "      <td>1760 Cheyenne Mountain Blvd</td>\n",
       "      <td>Colorado Springs</td>\n",
       "      <td>38.795186</td>\n",
       "      <td>-104.802556</td>\n",
       "      <td>burger king</td>\n",
       "      <td>80906</td>\n",
       "      <td>Co Spgs</td>\n",
       "      <td>http://bk.com</td>\n",
       "    </tr>\n",
       "    <tr>\n",
       "      <th>6797</th>\n",
       "      <td>603 S 8th St</td>\n",
       "      <td>Colorado Springs</td>\n",
       "      <td>38.825974</td>\n",
       "      <td>-104.840350</td>\n",
       "      <td>sonic drive in</td>\n",
       "      <td>80905</td>\n",
       "      <td>Co Spgs</td>\n",
       "      <td>http://sonicdrivein.com</td>\n",
       "    </tr>\n",
       "    <tr>\n",
       "      <th>8254</th>\n",
       "      <td>1507 S Nevada Ave</td>\n",
       "      <td>Colorado Springs</td>\n",
       "      <td>38.812493</td>\n",
       "      <td>-104.822123</td>\n",
       "      <td>taco bell</td>\n",
       "      <td>80905</td>\n",
       "      <td>Co Spgs</td>\n",
       "      <td>http://www.tacobell.com</td>\n",
       "    </tr>\n",
       "    <tr>\n",
       "      <th>8952</th>\n",
       "      <td>207 N Wahsatch Ave</td>\n",
       "      <td>Colorado Springs</td>\n",
       "      <td>38.836895</td>\n",
       "      <td>-104.817296</td>\n",
       "      <td>mcdonalds</td>\n",
       "      <td>80903</td>\n",
       "      <td>Co Spgs</td>\n",
       "      <td>http://mcdonalds.com</td>\n",
       "    </tr>\n",
       "    <tr>\n",
       "      <th>9198</th>\n",
       "      <td>5710 N Academy Blvd</td>\n",
       "      <td>Colorado Springs</td>\n",
       "      <td>38.913264</td>\n",
       "      <td>-104.788447</td>\n",
       "      <td>arbys</td>\n",
       "      <td>80907</td>\n",
       "      <td>Co Spgs</td>\n",
       "      <td>http://arbys.com</td>\n",
       "    </tr>\n",
       "  </tbody>\n",
       "</table>\n",
       "</div>"
      ],
      "text/plain": [
       "                          address              city   latitude   longitude  \\\n",
       "6754  1760 Cheyenne Mountain Blvd  Colorado Springs  38.795186 -104.802556   \n",
       "6797                 603 S 8th St  Colorado Springs  38.825974 -104.840350   \n",
       "8254            1507 S Nevada Ave  Colorado Springs  38.812493 -104.822123   \n",
       "8952           207 N Wahsatch Ave  Colorado Springs  38.836895 -104.817296   \n",
       "9198          5710 N Academy Blvd  Colorado Springs  38.913264 -104.788447   \n",
       "\n",
       "                name postalCode province                 websites  \n",
       "6754     burger king      80906  Co Spgs            http://bk.com  \n",
       "6797  sonic drive in      80905  Co Spgs  http://sonicdrivein.com  \n",
       "8254       taco bell      80905  Co Spgs  http://www.tacobell.com  \n",
       "8952       mcdonalds      80903  Co Spgs     http://mcdonalds.com  \n",
       "9198           arbys      80907  Co Spgs         http://arbys.com  "
      ]
     },
     "execution_count": 36,
     "metadata": {},
     "output_type": "execute_result"
    }
   ],
   "source": [
    "df_ffr_new[df_ffr_new.province.str.contains('Co Spgs')]   #Check occurences of province 'Co Spgs' for correcting to 'CO'"
   ]
  },
  {
   "cell_type": "code",
   "execution_count": 37,
   "metadata": {},
   "outputs": [
    {
     "data": {
      "text/plain": [
       "52"
      ]
     },
     "execution_count": 37,
     "metadata": {},
     "output_type": "execute_result"
    }
   ],
   "source": [
    "len(set(df_ffr_new.province))  #Unique province count pre cleaning"
   ]
  },
  {
   "cell_type": "markdown",
   "metadata": {},
   "source": [
    "#### Clean 'province' values"
   ]
  },
  {
   "cell_type": "code",
   "execution_count": 38,
   "metadata": {},
   "outputs": [
    {
     "name": "stdout",
     "output_type": "stream",
     "text": [
      "Co Spgs  is replaced with CO\n",
      "Co Spgs  is replaced with CO\n",
      "Co Spgs  is replaced with CO\n",
      "Co Spgs  is replaced with CO\n",
      "Co Spgs  is replaced with CO\n"
     ]
    }
   ],
   "source": [
    "# clean 'province' values\n",
    "province_co = [\"Co Spgs\"]\n",
    "\n",
    "for (row, col) in df_ffr_new.iterrows():\n",
    "\n",
    "    if (col['province'] in province_co):\n",
    "        print(col['province'], ' is replaced with', 'CO')\n",
    "        df_ffr_new['province'].replace(to_replace=col['province'], value='CO', inplace=True)\n"
   ]
  },
  {
   "cell_type": "code",
   "execution_count": 39,
   "metadata": {},
   "outputs": [
    {
     "data": {
      "text/plain": [
       "51"
      ]
     },
     "execution_count": 39,
     "metadata": {},
     "output_type": "execute_result"
    }
   ],
   "source": [
    "len(set(df_ffr_new.province))   #Unique province count post cleaning"
   ]
  },
  {
   "cell_type": "markdown",
   "metadata": {},
   "source": [
    "#### Unique province count post cleaning"
   ]
  },
  {
   "cell_type": "code",
   "execution_count": 43,
   "metadata": {},
   "outputs": [
    {
     "data": {
      "text/plain": [
       "CA    676\n",
       "TX    634\n",
       "OH    543\n",
       "FL    471\n",
       "IN    379\n",
       "IL    363\n",
       "NC    358\n",
       "GA    347\n",
       "MO    334\n",
       "KY    332\n",
       "VA    327\n",
       "PA    283\n",
       "NY    269\n",
       "MI    251\n",
       "TN    245\n",
       "SC    238\n",
       "LA    237\n",
       "AL    236\n",
       "WA    209\n",
       "AZ    208\n",
       "OK    208\n",
       "WI    186\n",
       "IA    166\n",
       "CO    163\n",
       "MD    159\n",
       "UT    159\n",
       "NJ    151\n",
       "AR    151\n",
       "NM    149\n",
       "MN    148\n",
       "NV    135\n",
       "MA    131\n",
       "OR    114\n",
       "SD    105\n",
       "KS    103\n",
       "ID     99\n",
       "CT     96\n",
       "WV     93\n",
       "NE     92\n",
       "MS     82\n",
       "ND     50\n",
       "ME     44\n",
       "VT     43\n",
       "WY     41\n",
       "HI     40\n",
       "NH     36\n",
       "DE     32\n",
       "MT     25\n",
       "RI     24\n",
       "DC     21\n",
       "AK     14\n",
       "Name: province, dtype: int64"
      ]
     },
     "execution_count": 43,
     "metadata": {},
     "output_type": "execute_result"
    }
   ],
   "source": [
    "df_ffr_new.province.value_counts()   #Unique province count post cleaning"
   ]
  },
  {
   "cell_type": "code",
   "execution_count": 24,
   "metadata": {},
   "outputs": [
    {
     "data": {
      "text/plain": [
       "2775"
      ]
     },
     "execution_count": 24,
     "metadata": {},
     "output_type": "execute_result"
    }
   ],
   "source": [
    "len(set(df_ffr_new.city))   #Unique city count"
   ]
  },
  {
   "cell_type": "code",
   "execution_count": 23,
   "metadata": {},
   "outputs": [
    {
     "data": {
      "text/plain": [
       "Cincinnati           119\n",
       "Las Vegas             72\n",
       "Houston               63\n",
       "Miami                 58\n",
       "Denver                52\n",
       "Chicago               51\n",
       "Phoenix               42\n",
       "Oklahoma City         41\n",
       "Atlanta               41\n",
       "Columbus              41\n",
       "Cleveland             37\n",
       "Lexington             37\n",
       "New York              36\n",
       "Washington            35\n",
       "Albuquerque           35\n",
       "Portland              34\n",
       "Greenville            34\n",
       "Columbia              34\n",
       "Rapid City            34\n",
       "Saint Louis           33\n",
       "Jacksonville          33\n",
       "Saint Paul            33\n",
       "Los Angeles           33\n",
       "Minneapolis           32\n",
       "Dallas                32\n",
       "Jackson               32\n",
       "Austin                31\n",
       "Louisville            31\n",
       "Orlando               31\n",
       "Fort Lauderdale       30\n",
       "                    ... \n",
       "Ramseur                1\n",
       "San Gabriel            1\n",
       "Lake Oswego            1\n",
       "Westerly               1\n",
       "Great Barrington       1\n",
       "South Windsor          1\n",
       "Burnsville             1\n",
       "Appomattox             1\n",
       "Buena Park             1\n",
       "Richfield              1\n",
       "El Campo               1\n",
       "Pawtucket              1\n",
       "Cream Ridge            1\n",
       "Hardinsburg            1\n",
       "West Branch            1\n",
       "Latta                  1\n",
       "La Grande              1\n",
       "Pine Grove             1\n",
       "Tellico Plains         1\n",
       "Smithers               1\n",
       "Glenwood               1\n",
       "Knightstown            1\n",
       "Shavertown             1\n",
       "Copiague               1\n",
       "Etters                 1\n",
       "Streamwood             1\n",
       "Celina                 1\n",
       "Fort Dix               1\n",
       "Elk Grove Village      1\n",
       "Hiram                  1\n",
       "Name: city, Length: 2775, dtype: int64"
      ]
     },
     "execution_count": 23,
     "metadata": {},
     "output_type": "execute_result"
    }
   ],
   "source": [
    "df_ffr_new.city.value_counts()"
   ]
  },
  {
   "cell_type": "markdown",
   "metadata": {},
   "source": [
    "#### Create a new column 'region' to group each province under respective region"
   ]
  },
  {
   "cell_type": "code",
   "execution_count": 44,
   "metadata": {},
   "outputs": [],
   "source": [
    "#Create a new column 'region' to group each province under respective region\n",
    "region_west = ['AK', 'AZ', 'CA', 'CO', 'HI', 'ID', 'MT', 'NV', 'NM', 'OR', 'UT', 'WA', 'WY']\n",
    "region_central = ['IL', 'IN', 'IA', 'KS', 'MI', 'MO', 'MN', 'NE', 'ND', 'OH', 'SD', 'WI']\n",
    "region_south = ['AL', 'AR', 'DE', 'FL', 'GA', 'KY', 'LA', 'MD', 'MS', 'OK', 'NC', 'SC', 'TN', 'TX', 'VA', 'WV', 'DC']\n",
    "region_east = ['CT', 'ME', 'NH', 'MA', 'NJ', 'NY', 'PA', 'RI', 'VT']\n",
    "\n",
    "\n",
    "df_ffr_new['region'] = df_ffr_new.apply(lambda x: 'West' if x['province'] in region_west else 'Central' if x['province'] in region_central else 'South' if x['province'] in region_south else 'East', axis=1)"
   ]
  },
  {
   "cell_type": "code",
   "execution_count": 45,
   "metadata": {},
   "outputs": [
    {
     "data": {
      "text/html": [
       "<div>\n",
       "<style scoped>\n",
       "    .dataframe tbody tr th:only-of-type {\n",
       "        vertical-align: middle;\n",
       "    }\n",
       "\n",
       "    .dataframe tbody tr th {\n",
       "        vertical-align: top;\n",
       "    }\n",
       "\n",
       "    .dataframe thead th {\n",
       "        text-align: right;\n",
       "    }\n",
       "</style>\n",
       "<table border=\"1\" class=\"dataframe\">\n",
       "  <thead>\n",
       "    <tr style=\"text-align: right;\">\n",
       "      <th></th>\n",
       "      <th>address</th>\n",
       "      <th>city</th>\n",
       "      <th>latitude</th>\n",
       "      <th>longitude</th>\n",
       "      <th>name</th>\n",
       "      <th>postalCode</th>\n",
       "      <th>province</th>\n",
       "      <th>websites</th>\n",
       "      <th>region</th>\n",
       "    </tr>\n",
       "  </thead>\n",
       "  <tbody>\n",
       "    <tr>\n",
       "      <th>6573</th>\n",
       "      <td>415 Gallatin Pike N</td>\n",
       "      <td>Madison</td>\n",
       "      <td>36.266600</td>\n",
       "      <td>-86.711300</td>\n",
       "      <td>kfc</td>\n",
       "      <td>37115</td>\n",
       "      <td>TN</td>\n",
       "      <td>http://www.kfc.com</td>\n",
       "      <td>South</td>\n",
       "    </tr>\n",
       "    <tr>\n",
       "      <th>8912</th>\n",
       "      <td>30711 Southfield Rd</td>\n",
       "      <td>Southfield</td>\n",
       "      <td>42.515212</td>\n",
       "      <td>-83.223214</td>\n",
       "      <td>burger king</td>\n",
       "      <td>48076</td>\n",
       "      <td>MI</td>\n",
       "      <td>http://www.bk.com,http://bk.com</td>\n",
       "      <td>Central</td>\n",
       "    </tr>\n",
       "    <tr>\n",
       "      <th>5293</th>\n",
       "      <td>2075 W Grand River Ave</td>\n",
       "      <td>Okemos</td>\n",
       "      <td>42.721760</td>\n",
       "      <td>-84.426230</td>\n",
       "      <td>chickfila</td>\n",
       "      <td>48864</td>\n",
       "      <td>MI</td>\n",
       "      <td>http://www.chick-fil-a.com</td>\n",
       "      <td>Central</td>\n",
       "    </tr>\n",
       "    <tr>\n",
       "      <th>8735</th>\n",
       "      <td>14124 W Newberry Rd</td>\n",
       "      <td>Newberry</td>\n",
       "      <td>29.654400</td>\n",
       "      <td>-82.493900</td>\n",
       "      <td>mcdonalds</td>\n",
       "      <td>32669</td>\n",
       "      <td>FL</td>\n",
       "      <td>http://mcdonalds.com,http://www.mcdonalds.com/...</td>\n",
       "      <td>South</td>\n",
       "    </tr>\n",
       "    <tr>\n",
       "      <th>4794</th>\n",
       "      <td>8776 Thomas Dr Ste 1,</td>\n",
       "      <td>Panama City</td>\n",
       "      <td>30.170160</td>\n",
       "      <td>-85.792180</td>\n",
       "      <td>pizza hut</td>\n",
       "      <td>32408</td>\n",
       "      <td>FL</td>\n",
       "      <td>http://www.pizzahut.com,http://www.pizzahut.com/</td>\n",
       "      <td>South</td>\n",
       "    </tr>\n",
       "    <tr>\n",
       "      <th>4340</th>\n",
       "      <td>3291 Court St</td>\n",
       "      <td>Pekin</td>\n",
       "      <td>40.546330</td>\n",
       "      <td>-89.602290</td>\n",
       "      <td>mcdonalds</td>\n",
       "      <td>61554</td>\n",
       "      <td>IL</td>\n",
       "      <td>http://mcdonalds.com,http://www.mcdonalds.com/...</td>\n",
       "      <td>Central</td>\n",
       "    </tr>\n",
       "    <tr>\n",
       "      <th>1009</th>\n",
       "      <td>13545 SW 17th Court</td>\n",
       "      <td>Ocala</td>\n",
       "      <td>29.024995</td>\n",
       "      <td>-82.154555</td>\n",
       "      <td>taco bell</td>\n",
       "      <td>34473</td>\n",
       "      <td>FL</td>\n",
       "      <td>http://www.tacobell.com,https://locations.taco...</td>\n",
       "      <td>South</td>\n",
       "    </tr>\n",
       "    <tr>\n",
       "      <th>6754</th>\n",
       "      <td>1760 Cheyenne Mountain Blvd</td>\n",
       "      <td>Colorado Springs</td>\n",
       "      <td>38.795186</td>\n",
       "      <td>-104.802556</td>\n",
       "      <td>burger king</td>\n",
       "      <td>80906</td>\n",
       "      <td>CO</td>\n",
       "      <td>http://bk.com</td>\n",
       "      <td>West</td>\n",
       "    </tr>\n",
       "    <tr>\n",
       "      <th>7004</th>\n",
       "      <td>1272 E Battlefield St</td>\n",
       "      <td>Springfield</td>\n",
       "      <td>37.159000</td>\n",
       "      <td>-93.275200</td>\n",
       "      <td>wendys</td>\n",
       "      <td>65804</td>\n",
       "      <td>MO</td>\n",
       "      <td>http://www.wendys.com</td>\n",
       "      <td>Central</td>\n",
       "    </tr>\n",
       "    <tr>\n",
       "      <th>4058</th>\n",
       "      <td>98 Mcmeans Ave</td>\n",
       "      <td>Bay Minette</td>\n",
       "      <td>30.879082</td>\n",
       "      <td>-87.783995</td>\n",
       "      <td>mcdonalds</td>\n",
       "      <td>36507</td>\n",
       "      <td>AL</td>\n",
       "      <td>http://mcdonalds.com,http://www.mcdonalds.com/...</td>\n",
       "      <td>South</td>\n",
       "    </tr>\n",
       "  </tbody>\n",
       "</table>\n",
       "</div>"
      ],
      "text/plain": [
       "                          address              city   latitude   longitude  \\\n",
       "6573          415 Gallatin Pike N           Madison  36.266600  -86.711300   \n",
       "8912          30711 Southfield Rd        Southfield  42.515212  -83.223214   \n",
       "5293       2075 W Grand River Ave            Okemos  42.721760  -84.426230   \n",
       "8735          14124 W Newberry Rd          Newberry  29.654400  -82.493900   \n",
       "4794        8776 Thomas Dr Ste 1,       Panama City  30.170160  -85.792180   \n",
       "4340                3291 Court St             Pekin  40.546330  -89.602290   \n",
       "1009          13545 SW 17th Court             Ocala  29.024995  -82.154555   \n",
       "6754  1760 Cheyenne Mountain Blvd  Colorado Springs  38.795186 -104.802556   \n",
       "7004        1272 E Battlefield St       Springfield  37.159000  -93.275200   \n",
       "4058               98 Mcmeans Ave       Bay Minette  30.879082  -87.783995   \n",
       "\n",
       "             name postalCode province  \\\n",
       "6573          kfc      37115       TN   \n",
       "8912  burger king      48076       MI   \n",
       "5293    chickfila      48864       MI   \n",
       "8735    mcdonalds      32669       FL   \n",
       "4794    pizza hut      32408       FL   \n",
       "4340    mcdonalds      61554       IL   \n",
       "1009    taco bell      34473       FL   \n",
       "6754  burger king      80906       CO   \n",
       "7004       wendys      65804       MO   \n",
       "4058    mcdonalds      36507       AL   \n",
       "\n",
       "                                               websites   region  \n",
       "6573                                 http://www.kfc.com    South  \n",
       "8912                    http://www.bk.com,http://bk.com  Central  \n",
       "5293                         http://www.chick-fil-a.com  Central  \n",
       "8735  http://mcdonalds.com,http://www.mcdonalds.com/...    South  \n",
       "4794   http://www.pizzahut.com,http://www.pizzahut.com/    South  \n",
       "4340  http://mcdonalds.com,http://www.mcdonalds.com/...  Central  \n",
       "1009  http://www.tacobell.com,https://locations.taco...    South  \n",
       "6754                                      http://bk.com     West  \n",
       "7004                              http://www.wendys.com  Central  \n",
       "4058  http://mcdonalds.com,http://www.mcdonalds.com/...    South  "
      ]
     },
     "execution_count": 45,
     "metadata": {},
     "output_type": "execute_result"
    }
   ],
   "source": [
    "df_ffr_new.sample(10)"
   ]
  },
  {
   "cell_type": "code",
   "execution_count": 46,
   "metadata": {},
   "outputs": [
    {
     "data": {
      "text/plain": [
       "South      4171\n",
       "Central    2720\n",
       "West       2032\n",
       "East       1077\n",
       "Name: region, dtype: int64"
      ]
     },
     "execution_count": 46,
     "metadata": {},
     "output_type": "execute_result"
    }
   ],
   "source": [
    "df_ffr_new.region.value_counts()"
   ]
  },
  {
   "cell_type": "markdown",
   "metadata": {},
   "source": [
    "<a id=section304></a>"
   ]
  },
  {
   "cell_type": "markdown",
   "metadata": {},
   "source": [
    "### 3.4 Post Profiling"
   ]
  },
  {
   "cell_type": "code",
   "execution_count": 48,
   "metadata": {},
   "outputs": [],
   "source": [
    "import pandas_profiling\n",
    "profile = pandas_profiling.ProfileReport(df_ffr_new)\n",
    "profile.to_file(outputfile=\"FastFoodRestaurants_post_profiling.html\")"
   ]
  },
  {
   "cell_type": "markdown",
   "metadata": {},
   "source": [
    "Now the dataset contain uniform values for Restaurant names and Provinces. We also introduced new feature named __Region__."
   ]
  },
  {
   "cell_type": "markdown",
   "metadata": {},
   "source": [
    "<a id=section4></a>"
   ]
  },
  {
   "cell_type": "markdown",
   "metadata": {},
   "source": [
    "## 4. Data Analysis"
   ]
  },
  {
   "cell_type": "markdown",
   "metadata": {},
   "source": [
    "<a id=section401></a>"
   ]
  },
  {
   "cell_type": "markdown",
   "metadata": {},
   "source": [
    "### 4.1 How the restaurants are distributed regionwise ?"
   ]
  },
  {
   "cell_type": "code",
   "execution_count": 28,
   "metadata": {},
   "outputs": [
    {
     "data": {
      "text/plain": [
       "Text(0,0.5,'Percentage')"
      ]
     },
     "execution_count": 28,
     "metadata": {},
     "output_type": "execute_result"
    },
    {
     "data": {
      "image/png": "[encoded data removed]",
      "text/plain": [
       "<Figure size 432x288 with 1 Axes>"
      ]
     },
     "metadata": {},
     "output_type": "display_data"
    }
   ],
   "source": [
    "#cityplt=df_ffr_new.region.value_counts().plot.bar(title='Region wise distribution')\n",
    "cityplt = (df_ffr_new.region.value_counts() / len(df_ffr_new)).plot.bar(title='Region wise distribution')\n",
    "cityplt.set_xlabel('Region',size=15)\n",
    "cityplt.set_ylabel('Percentage',size=15)"
   ]
  },
  {
   "cell_type": "markdown",
   "metadata": {},
   "source": [
    "<a id=section402></a>"
   ]
  },
  {
   "cell_type": "markdown",
   "metadata": {},
   "source": [
    "### 4.2 What is the percentage distribution of Top 10 restaurants ?"
   ]
  },
  {
   "cell_type": "code",
   "execution_count": 29,
   "metadata": {},
   "outputs": [
    {
     "data": {
      "text/plain": [
       "Text(0,0.5,'Percentage')"
      ]
     },
     "execution_count": 29,
     "metadata": {},
     "output_type": "execute_result"
    },
    {
     "data": {
      "image/png": "[encoded data removed]",
      "text/plain": [
       "<Figure size 432x288 with 1 Axes>"
      ]
     },
     "metadata": {},
     "output_type": "display_data"
    }
   ],
   "source": [
    "#nameplt=df_ffr_new.name.value_counts()[:10].plot.bar(title=\"Top 10 Restaurants\")\n",
    "nameplt = (df_ffr_new.name.value_counts() / len(df_ffr_new))[:10].plot.bar(title=\"Top 10 Restaurants\")\n",
    "nameplt.set_xlabel('Restaurant',size=15)\n",
    "nameplt.set_ylabel('Percentage',size=15)"
   ]
  },
  {
   "cell_type": "markdown",
   "metadata": {},
   "source": [
    "<a id=section403></a>"
   ]
  },
  {
   "cell_type": "markdown",
   "metadata": {},
   "source": [
    "### 4.3 What is the percentage distribution of Bottom 10 restaurants ?"
   ]
  },
  {
   "cell_type": "code",
   "execution_count": 53,
   "metadata": {},
   "outputs": [
    {
     "data": {
      "text/plain": [
       "Text(0,0.5,'Percentage')"
      ]
     },
     "execution_count": 53,
     "metadata": {},
     "output_type": "execute_result"
    },
    {
     "data": {
      "image/png": "[encoded data removed]",
      "text/plain": [
       "<Figure size 800x550 with 1 Axes>"
      ]
     },
     "metadata": {},
     "output_type": "display_data"
    }
   ],
   "source": [
    "#nameplt=df_ffr_new.name.value_counts()[-10:].plot.bar(title=\"Bottom 10 Restaurants\")\n",
    "nameplt = (df_ffr_new.name.value_counts() / len(df_ffr_new))[-10:].plot.bar(title=\"Bottom 10 Restaurants\")\n",
    "nameplt.set_xlabel('Restaurant',size=15)\n",
    "nameplt.set_ylabel('Percentage',size=15)"
   ]
  },
  {
   "cell_type": "markdown",
   "metadata": {},
   "source": [
    "<a id=section404></a>"
   ]
  },
  {
   "cell_type": "markdown",
   "metadata": {},
   "source": [
    "### 4.4 Which are the Top 10 Provinces ?"
   ]
  },
  {
   "cell_type": "code",
   "execution_count": 30,
   "metadata": {},
   "outputs": [
    {
     "data": {
      "text/plain": [
       "Text(0,0.5,'Percentage')"
      ]
     },
     "execution_count": 30,
     "metadata": {},
     "output_type": "execute_result"
    },
    {
     "data": {
      "image/png": "[encoded data removed]",
      "text/plain": [
       "<Figure size 432x288 with 1 Axes>"
      ]
     },
     "metadata": {},
     "output_type": "display_data"
    }
   ],
   "source": [
    "#provplt=df_ffr_new.province.value_counts()[:10].plot.bar(title='Top 10 Province')\n",
    "provplt = (df_ffr_new.province.value_counts() / len(df_ffr_new))[:10].plot.bar(title='Top 10 Province')\n",
    "provplt.set_xlabel('Province',size=15)\n",
    "provplt.set_ylabel('Percentage',size=15)"
   ]
  },
  {
   "cell_type": "markdown",
   "metadata": {},
   "source": [
    "<a id=section405></a>"
   ]
  },
  {
   "cell_type": "markdown",
   "metadata": {},
   "source": [
    "### 4.5 Which are the Bottom 10 Provinces ?"
   ]
  },
  {
   "cell_type": "code",
   "execution_count": 55,
   "metadata": {},
   "outputs": [
    {
     "data": {
      "text/plain": [
       "Text(0,0.5,'Percentage')"
      ]
     },
     "execution_count": 55,
     "metadata": {},
     "output_type": "execute_result"
    },
    {
     "data": {
      "image/png": "[encoded data removed]",
      "text/plain": [
       "<Figure size 800x550 with 1 Axes>"
      ]
     },
     "metadata": {},
     "output_type": "display_data"
    }
   ],
   "source": [
    "#provplt=df_ffr_new.province.value_counts()[-10:].plot.bar(title='Bottom 10 Province')\n",
    "provplt = (df_ffr_new.province.value_counts() / len(df_ffr_new))[-10:].plot.bar(title='Bottom 10 Province')\n",
    "provplt.set_xlabel('Province',size=15)\n",
    "provplt.set_ylabel('Percentage',size=15)"
   ]
  },
  {
   "cell_type": "markdown",
   "metadata": {},
   "source": [
    "<a id=section406></a>"
   ]
  },
  {
   "cell_type": "markdown",
   "metadata": {},
   "source": [
    "### 4.6 Which are the Top 10 Cities ?"
   ]
  },
  {
   "cell_type": "code",
   "execution_count": 31,
   "metadata": {},
   "outputs": [
    {
     "data": {
      "text/plain": [
       "Text(0,0.5,'Percentage')"
      ]
     },
     "execution_count": 31,
     "metadata": {},
     "output_type": "execute_result"
    },
    {
     "data": {
      "image/png": "[encoded data removed]",
      "text/plain": [
       "<Figure size 432x288 with 1 Axes>"
      ]
     },
     "metadata": {},
     "output_type": "display_data"
    }
   ],
   "source": [
    "#cityplt=df_ffr_new.city.value_counts()[:10].plot.bar(title='Top 10 cities')\n",
    "cityplt = (df_ffr_new.city.value_counts() / len(df_ffr_new))[:10].plot.bar(title='Top 10 Cities')\n",
    "cityplt.set_xlabel('City',size=15)\n",
    "cityplt.set_ylabel('Percentage',size=15)"
   ]
  },
  {
   "cell_type": "markdown",
   "metadata": {},
   "source": [
    "<a id=section407></a>"
   ]
  },
  {
   "cell_type": "markdown",
   "metadata": {},
   "source": [
    "### 4.7 Which are the Bottom 10 Cities ?"
   ]
  },
  {
   "cell_type": "code",
   "execution_count": 57,
   "metadata": {},
   "outputs": [
    {
     "data": {
      "text/plain": [
       "Text(0,0.5,'Percentage')"
      ]
     },
     "execution_count": 57,
     "metadata": {},
     "output_type": "execute_result"
    },
    {
     "data": {
      "image/png": "[encoded data removed]",
      "text/plain": [
       "<Figure size 800x550 with 1 Axes>"
      ]
     },
     "metadata": {},
     "output_type": "display_data"
    }
   ],
   "source": [
    "#cityplt=df_ffr_new.city.value_counts()[-10:].plot.bar(title='Bottom 10 cities')\n",
    "cityplt = (df_ffr_new.city.value_counts() / len(df_ffr_new))[-10:].plot.bar(title='Bottom 10 Cities')\n",
    "cityplt.set_xlabel('City',size=15)\n",
    "cityplt.set_ylabel('Percentage',size=15)"
   ]
  },
  {
   "cell_type": "markdown",
   "metadata": {},
   "source": [
    "<a id=section408></a>"
   ]
  },
  {
   "cell_type": "markdown",
   "metadata": {},
   "source": [
    "### 4.8 What is the distribution of top 10 restaurants in California ?"
   ]
  },
  {
   "cell_type": "code",
   "execution_count": 32,
   "metadata": {},
   "outputs": [
    {
     "data": {
      "text/plain": [
       "Text(0,0.5,'Percentage')"
      ]
     },
     "execution_count": 32,
     "metadata": {},
     "output_type": "execute_result"
    },
    {
     "data": {
      "image/png": "[encoded data removed]",
      "text/plain": [
       "<Figure size 432x288 with 1 Axes>"
      ]
     },
     "metadata": {},
     "output_type": "display_data"
    }
   ],
   "source": [
    "df_ca = df_ffr_new[df_ffr_new['province'] == 'CA']\n",
    "\n",
    "cityplt = df_ca.name.value_counts()[:10].plot.bar(title='Top 10 Restaurants in California')\n",
    "cityplt.set_xlabel('Name',size=15)\n",
    "cityplt.set_ylabel('Percentage',size=15)"
   ]
  },
  {
   "cell_type": "markdown",
   "metadata": {},
   "source": [
    "<a id=section409></a>"
   ]
  },
  {
   "cell_type": "markdown",
   "metadata": {},
   "source": [
    "### 4.9 How McDonald's restaurant is distributed in top 10 provinces ?"
   ]
  },
  {
   "cell_type": "code",
   "execution_count": 33,
   "metadata": {},
   "outputs": [
    {
     "data": {
      "text/plain": [
       "Text(0,0.5,'Percentage')"
      ]
     },
     "execution_count": 33,
     "metadata": {},
     "output_type": "execute_result"
    },
    {
     "data": {
      "image/png": "[encoded data removed]",
      "text/plain": [
       "<Figure size 432x288 with 1 Axes>"
      ]
     },
     "metadata": {},
     "output_type": "display_data"
    }
   ],
   "source": [
    "df_name = df_ffr_new[df_ffr_new['name'] == 'mcdonalds']\n",
    "\n",
    "cityplt = df_name.province.value_counts()[:10].plot.bar(title='McDonald\\'s Restaurants in top 10 Province')\n",
    "cityplt.set_xlabel('Name',size=15)\n",
    "cityplt.set_ylabel('Percentage',size=15)"
   ]
  },
  {
   "cell_type": "markdown",
   "metadata": {},
   "source": [
    "<a id=section410></a>"
   ]
  },
  {
   "cell_type": "markdown",
   "metadata": {},
   "source": [
    "### 4.10 How McDonald's restaurant is distributed in top 10 cities ?"
   ]
  },
  {
   "cell_type": "code",
   "execution_count": 34,
   "metadata": {},
   "outputs": [
    {
     "data": {
      "text/plain": [
       "Text(0,0.5,'Percentage')"
      ]
     },
     "execution_count": 34,
     "metadata": {},
     "output_type": "execute_result"
    },
    {
     "data": {
      "image/png": "[encoded data removed]",
      "text/plain": [
       "<Figure size 432x288 with 1 Axes>"
      ]
     },
     "metadata": {},
     "output_type": "display_data"
    }
   ],
   "source": [
    "df_name = df_ffr_new[df_ffr_new['name'] == 'mcdonalds']\n",
    "\n",
    "cityplt = df_name.city.value_counts()[:10].plot.bar(title='McDonald\\'s Restaurants in top 10 Cities')\n",
    "cityplt.set_xlabel('Name',size=15)\n",
    "cityplt.set_ylabel('Percentage',size=15)"
   ]
  },
  {
   "cell_type": "markdown",
   "metadata": {},
   "source": [
    "<a id=section411></a>"
   ]
  },
  {
   "cell_type": "markdown",
   "metadata": {},
   "source": [
    "### 4.11 Restaurants distribution as per Region, Province and City ?"
   ]
  },
  {
   "cell_type": "code",
   "execution_count": 59,
   "metadata": {},
   "outputs": [
    {
     "data": {
      "text/html": [
       "<div>\n",
       "<style scoped>\n",
       "    .dataframe tbody tr th:only-of-type {\n",
       "        vertical-align: middle;\n",
       "    }\n",
       "\n",
       "    .dataframe tbody tr th {\n",
       "        vertical-align: top;\n",
       "    }\n",
       "\n",
       "    .dataframe thead th {\n",
       "        text-align: right;\n",
       "    }\n",
       "</style>\n",
       "<table border=\"1\" class=\"dataframe\">\n",
       "  <thead>\n",
       "    <tr style=\"text-align: right;\">\n",
       "      <th></th>\n",
       "      <th></th>\n",
       "      <th></th>\n",
       "      <th></th>\n",
       "      <th>name</th>\n",
       "    </tr>\n",
       "    <tr>\n",
       "      <th>region</th>\n",
       "      <th>province</th>\n",
       "      <th>city</th>\n",
       "      <th>name</th>\n",
       "      <th></th>\n",
       "    </tr>\n",
       "  </thead>\n",
       "  <tbody>\n",
       "    <tr>\n",
       "      <th rowspan=\"30\" valign=\"top\">Central</th>\n",
       "      <th rowspan=\"30\" valign=\"top\">IA</th>\n",
       "      <th rowspan=\"3\" valign=\"top\">Altoona</th>\n",
       "      <th>burger king</th>\n",
       "      <td>1</td>\n",
       "    </tr>\n",
       "    <tr>\n",
       "      <th>dominos pizza</th>\n",
       "      <td>1</td>\n",
       "    </tr>\n",
       "    <tr>\n",
       "      <th>mcdonalds</th>\n",
       "      <td>1</td>\n",
       "    </tr>\n",
       "    <tr>\n",
       "      <th rowspan=\"4\" valign=\"top\">Ames</th>\n",
       "      <th>dominos pizza</th>\n",
       "      <td>1</td>\n",
       "    </tr>\n",
       "    <tr>\n",
       "      <th>kfc</th>\n",
       "      <td>1</td>\n",
       "    </tr>\n",
       "    <tr>\n",
       "      <th>kum  go</th>\n",
       "      <td>1</td>\n",
       "    </tr>\n",
       "    <tr>\n",
       "      <th>kum go</th>\n",
       "      <td>1</td>\n",
       "    </tr>\n",
       "    <tr>\n",
       "      <th>Atlantic</th>\n",
       "      <th>kfc</th>\n",
       "      <td>1</td>\n",
       "    </tr>\n",
       "    <tr>\n",
       "      <th rowspan=\"2\" valign=\"top\">Bettendorf</th>\n",
       "      <th>mcdonalds</th>\n",
       "      <td>1</td>\n",
       "    </tr>\n",
       "    <tr>\n",
       "      <th>wendys</th>\n",
       "      <td>1</td>\n",
       "    </tr>\n",
       "    <tr>\n",
       "      <th>Boone</th>\n",
       "      <th>kum  go</th>\n",
       "      <td>1</td>\n",
       "    </tr>\n",
       "    <tr>\n",
       "      <th rowspan=\"3\" valign=\"top\">Burlington</th>\n",
       "      <th>arbys</th>\n",
       "      <td>1</td>\n",
       "    </tr>\n",
       "    <tr>\n",
       "      <th>mcdonalds</th>\n",
       "      <td>1</td>\n",
       "    </tr>\n",
       "    <tr>\n",
       "      <th>wendys</th>\n",
       "      <td>1</td>\n",
       "    </tr>\n",
       "    <tr>\n",
       "      <th>Calumet</th>\n",
       "      <th>jamjam</th>\n",
       "      <td>1</td>\n",
       "    </tr>\n",
       "    <tr>\n",
       "      <th rowspan=\"6\" valign=\"top\">Carroll</th>\n",
       "      <th>arbys</th>\n",
       "      <td>1</td>\n",
       "    </tr>\n",
       "    <tr>\n",
       "      <th>aw</th>\n",
       "      <td>1</td>\n",
       "    </tr>\n",
       "    <tr>\n",
       "      <th>burger king</th>\n",
       "      <td>2</td>\n",
       "    </tr>\n",
       "    <tr>\n",
       "      <th>jimmy johns</th>\n",
       "      <td>1</td>\n",
       "    </tr>\n",
       "    <tr>\n",
       "      <th>mcdonalds</th>\n",
       "      <td>1</td>\n",
       "    </tr>\n",
       "    <tr>\n",
       "      <th>taco johns</th>\n",
       "      <td>1</td>\n",
       "    </tr>\n",
       "    <tr>\n",
       "      <th rowspan=\"6\" valign=\"top\">Cedar Falls</th>\n",
       "      <th>arbys</th>\n",
       "      <td>1</td>\n",
       "    </tr>\n",
       "    <tr>\n",
       "      <th>jimmy johns</th>\n",
       "      <td>1</td>\n",
       "    </tr>\n",
       "    <tr>\n",
       "      <th>mcdonalds</th>\n",
       "      <td>2</td>\n",
       "    </tr>\n",
       "    <tr>\n",
       "      <th>taco bell</th>\n",
       "      <td>1</td>\n",
       "    </tr>\n",
       "    <tr>\n",
       "      <th>taco johns</th>\n",
       "      <td>1</td>\n",
       "    </tr>\n",
       "    <tr>\n",
       "      <th>thunder ridge ampride</th>\n",
       "      <td>1</td>\n",
       "    </tr>\n",
       "    <tr>\n",
       "      <th rowspan=\"3\" valign=\"top\">Cedar Rapids</th>\n",
       "      <th>burger king</th>\n",
       "      <td>1</td>\n",
       "    </tr>\n",
       "    <tr>\n",
       "      <th>mcdonalds</th>\n",
       "      <td>2</td>\n",
       "    </tr>\n",
       "    <tr>\n",
       "      <th>subway</th>\n",
       "      <td>1</td>\n",
       "    </tr>\n",
       "    <tr>\n",
       "      <th>...</th>\n",
       "      <th>...</th>\n",
       "      <th>...</th>\n",
       "      <th>...</th>\n",
       "      <td>...</td>\n",
       "    </tr>\n",
       "    <tr>\n",
       "      <th rowspan=\"30\" valign=\"top\">West</th>\n",
       "      <th rowspan=\"30\" valign=\"top\">WY</th>\n",
       "      <th rowspan=\"2\" valign=\"top\">Cody</th>\n",
       "      <th>arbys</th>\n",
       "      <td>1</td>\n",
       "    </tr>\n",
       "    <tr>\n",
       "      <th>burger king</th>\n",
       "      <td>1</td>\n",
       "    </tr>\n",
       "    <tr>\n",
       "      <th rowspan=\"2\" valign=\"top\">Evanston</th>\n",
       "      <th>dominos pizza</th>\n",
       "      <td>1</td>\n",
       "    </tr>\n",
       "    <tr>\n",
       "      <th>subway</th>\n",
       "      <td>1</td>\n",
       "    </tr>\n",
       "    <tr>\n",
       "      <th>Gillette</th>\n",
       "      <th>dominos pizza</th>\n",
       "      <td>1</td>\n",
       "    </tr>\n",
       "    <tr>\n",
       "      <th rowspan=\"4\" valign=\"top\">Jackson</th>\n",
       "      <th>dairy queen</th>\n",
       "      <td>1</td>\n",
       "    </tr>\n",
       "    <tr>\n",
       "      <th>dominos pizza</th>\n",
       "      <td>1</td>\n",
       "    </tr>\n",
       "    <tr>\n",
       "      <th>mcdonalds</th>\n",
       "      <td>1</td>\n",
       "    </tr>\n",
       "    <tr>\n",
       "      <th>wendys</th>\n",
       "      <td>1</td>\n",
       "    </tr>\n",
       "    <tr>\n",
       "      <th rowspan=\"8\" valign=\"top\">Laramie</th>\n",
       "      <th>arbys</th>\n",
       "      <td>1</td>\n",
       "    </tr>\n",
       "    <tr>\n",
       "      <th>burger king</th>\n",
       "      <td>1</td>\n",
       "    </tr>\n",
       "    <tr>\n",
       "      <th>mcdonalds</th>\n",
       "      <td>1</td>\n",
       "    </tr>\n",
       "    <tr>\n",
       "      <th>sonic drive in</th>\n",
       "      <td>1</td>\n",
       "    </tr>\n",
       "    <tr>\n",
       "      <th>subway</th>\n",
       "      <td>2</td>\n",
       "    </tr>\n",
       "    <tr>\n",
       "      <th>taco bell</th>\n",
       "      <td>1</td>\n",
       "    </tr>\n",
       "    <tr>\n",
       "      <th>taco johns</th>\n",
       "      <td>1</td>\n",
       "    </tr>\n",
       "    <tr>\n",
       "      <th>wendys</th>\n",
       "      <td>1</td>\n",
       "    </tr>\n",
       "    <tr>\n",
       "      <th rowspan=\"3\" valign=\"top\">Powell</th>\n",
       "      <th>dominos pizza</th>\n",
       "      <td>1</td>\n",
       "    </tr>\n",
       "    <tr>\n",
       "      <th>mcdonalds</th>\n",
       "      <td>1</td>\n",
       "    </tr>\n",
       "    <tr>\n",
       "      <th>subway</th>\n",
       "      <td>1</td>\n",
       "    </tr>\n",
       "    <tr>\n",
       "      <th rowspan=\"4\" valign=\"top\">Rawlins</th>\n",
       "      <th>burger king</th>\n",
       "      <td>1</td>\n",
       "    </tr>\n",
       "    <tr>\n",
       "      <th>dominos pizza</th>\n",
       "      <td>1</td>\n",
       "    </tr>\n",
       "    <tr>\n",
       "      <th>subway</th>\n",
       "      <td>1</td>\n",
       "    </tr>\n",
       "    <tr>\n",
       "      <th>taco bell</th>\n",
       "      <td>1</td>\n",
       "    </tr>\n",
       "    <tr>\n",
       "      <th rowspan=\"2\" valign=\"top\">Rock Springs</th>\n",
       "      <th>sonic drive in</th>\n",
       "      <td>1</td>\n",
       "    </tr>\n",
       "    <tr>\n",
       "      <th>taco bell</th>\n",
       "      <td>1</td>\n",
       "    </tr>\n",
       "    <tr>\n",
       "      <th rowspan=\"2\" valign=\"top\">Sheridan</th>\n",
       "      <th>jimmy johns</th>\n",
       "      <td>1</td>\n",
       "    </tr>\n",
       "    <tr>\n",
       "      <th>subway</th>\n",
       "      <td>2</td>\n",
       "    </tr>\n",
       "    <tr>\n",
       "      <th rowspan=\"2\" valign=\"top\">Wheatland</th>\n",
       "      <th>burger king</th>\n",
       "      <td>1</td>\n",
       "    </tr>\n",
       "    <tr>\n",
       "      <th>taco johns</th>\n",
       "      <td>1</td>\n",
       "    </tr>\n",
       "  </tbody>\n",
       "</table>\n",
       "<p>8269 rows × 1 columns</p>\n",
       "</div>"
      ],
      "text/plain": [
       "                                                     name\n",
       "region  province city         name                       \n",
       "Central IA       Altoona      burger king               1\n",
       "                              dominos pizza             1\n",
       "                              mcdonalds                 1\n",
       "                 Ames         dominos pizza             1\n",
       "                              kfc                       1\n",
       "                              kum  go                   1\n",
       "                              kum go                    1\n",
       "                 Atlantic     kfc                       1\n",
       "                 Bettendorf   mcdonalds                 1\n",
       "                              wendys                    1\n",
       "                 Boone        kum  go                   1\n",
       "                 Burlington   arbys                     1\n",
       "                              mcdonalds                 1\n",
       "                              wendys                    1\n",
       "                 Calumet      jamjam                    1\n",
       "                 Carroll      arbys                     1\n",
       "                              aw                        1\n",
       "                              burger king               2\n",
       "                              jimmy johns               1\n",
       "                              mcdonalds                 1\n",
       "                              taco johns                1\n",
       "                 Cedar Falls  arbys                     1\n",
       "                              jimmy johns               1\n",
       "                              mcdonalds                 2\n",
       "                              taco bell                 1\n",
       "                              taco johns                1\n",
       "                              thunder ridge ampride     1\n",
       "                 Cedar Rapids burger king               1\n",
       "                              mcdonalds                 2\n",
       "                              subway                    1\n",
       "...                                                   ...\n",
       "West    WY       Cody         arbys                     1\n",
       "                              burger king               1\n",
       "                 Evanston     dominos pizza             1\n",
       "                              subway                    1\n",
       "                 Gillette     dominos pizza             1\n",
       "                 Jackson      dairy queen               1\n",
       "                              dominos pizza             1\n",
       "                              mcdonalds                 1\n",
       "                              wendys                    1\n",
       "                 Laramie      arbys                     1\n",
       "                              burger king               1\n",
       "                              mcdonalds                 1\n",
       "                              sonic drive in            1\n",
       "                              subway                    2\n",
       "                              taco bell                 1\n",
       "                              taco johns                1\n",
       "                              wendys                    1\n",
       "                 Powell       dominos pizza             1\n",
       "                              mcdonalds                 1\n",
       "                              subway                    1\n",
       "                 Rawlins      burger king               1\n",
       "                              dominos pizza             1\n",
       "                              subway                    1\n",
       "                              taco bell                 1\n",
       "                 Rock Springs sonic drive in            1\n",
       "                              taco bell                 1\n",
       "                 Sheridan     jimmy johns               1\n",
       "                              subway                    2\n",
       "                 Wheatland    burger king               1\n",
       "                              taco johns                1\n",
       "\n",
       "[8269 rows x 1 columns]"
      ]
     },
     "execution_count": 59,
     "metadata": {},
     "output_type": "execute_result"
    }
   ],
   "source": [
    "df_ffr_new_1 = pd.DataFrame(df_ffr_new.groupby(['region','province', 'city', 'name'])['name'].count())\n",
    "df_ffr_new_1\n",
    "#df_ffr_new.province.value_counts()"
   ]
  },
  {
   "cell_type": "markdown",
   "metadata": {},
   "source": [
    "<a id=section412></a>"
   ]
  },
  {
   "cell_type": "markdown",
   "metadata": {},
   "source": [
    "### 4.12 Perform Label Encoding for Categorical Variables"
   ]
  },
  {
   "cell_type": "markdown",
   "metadata": {},
   "source": [
    "#### Create a copy of dataframe for Label encoding"
   ]
  },
  {
   "cell_type": "code",
   "execution_count": 60,
   "metadata": {},
   "outputs": [],
   "source": [
    "df_ffr_num = df_ffr_new.copy(deep=True)  #Creating a new DataFrame for label encoding"
   ]
  },
  {
   "cell_type": "code",
   "execution_count": 61,
   "metadata": {},
   "outputs": [
    {
     "data": {
      "text/html": [
       "<div>\n",
       "<style scoped>\n",
       "    .dataframe tbody tr th:only-of-type {\n",
       "        vertical-align: middle;\n",
       "    }\n",
       "\n",
       "    .dataframe tbody tr th {\n",
       "        vertical-align: top;\n",
       "    }\n",
       "\n",
       "    .dataframe thead th {\n",
       "        text-align: right;\n",
       "    }\n",
       "</style>\n",
       "<table border=\"1\" class=\"dataframe\">\n",
       "  <thead>\n",
       "    <tr style=\"text-align: right;\">\n",
       "      <th></th>\n",
       "      <th>address</th>\n",
       "      <th>city</th>\n",
       "      <th>latitude</th>\n",
       "      <th>longitude</th>\n",
       "      <th>name</th>\n",
       "      <th>postalCode</th>\n",
       "      <th>province</th>\n",
       "      <th>websites</th>\n",
       "      <th>region</th>\n",
       "    </tr>\n",
       "  </thead>\n",
       "  <tbody>\n",
       "    <tr>\n",
       "      <th>9019</th>\n",
       "      <td>500 W Prairie Ave</td>\n",
       "      <td>Coeur D Alene</td>\n",
       "      <td>47.744486</td>\n",
       "      <td>-116.792939</td>\n",
       "      <td>del taco</td>\n",
       "      <td>83814</td>\n",
       "      <td>ID</td>\n",
       "      <td>http://www.deltaco.com,http://deltaco.com</td>\n",
       "      <td>West</td>\n",
       "    </tr>\n",
       "    <tr>\n",
       "      <th>6893</th>\n",
       "      <td>2205 W Jonathan Moore Pike</td>\n",
       "      <td>Columbus</td>\n",
       "      <td>39.200159</td>\n",
       "      <td>-85.960792</td>\n",
       "      <td>mcdonalds</td>\n",
       "      <td>47201</td>\n",
       "      <td>IN</td>\n",
       "      <td>http://www.mcdonalds.com/?cid=RF:YXT_FM:TP::Ye...</td>\n",
       "      <td>Central</td>\n",
       "    </tr>\n",
       "    <tr>\n",
       "      <th>4034</th>\n",
       "      <td>176 Market St</td>\n",
       "      <td>Potsdam</td>\n",
       "      <td>44.683160</td>\n",
       "      <td>-74.986850</td>\n",
       "      <td>burger king</td>\n",
       "      <td>13676</td>\n",
       "      <td>NY</td>\n",
       "      <td>http://www.bk.com,https://locations.bk.com/ny/...</td>\n",
       "      <td>East</td>\n",
       "    </tr>\n",
       "    <tr>\n",
       "      <th>1097</th>\n",
       "      <td>1040 E Iron Ave</td>\n",
       "      <td>Salina</td>\n",
       "      <td>38.840130</td>\n",
       "      <td>-97.594450</td>\n",
       "      <td>taco bell</td>\n",
       "      <td>67401</td>\n",
       "      <td>KS</td>\n",
       "      <td>http://www.tacobell.com,https://locations.taco...</td>\n",
       "      <td>Central</td>\n",
       "    </tr>\n",
       "    <tr>\n",
       "      <th>2558</th>\n",
       "      <td>144 W Brigham Rd</td>\n",
       "      <td>Saint George</td>\n",
       "      <td>37.060600</td>\n",
       "      <td>-113.585900</td>\n",
       "      <td>wendys</td>\n",
       "      <td>84790</td>\n",
       "      <td>UT</td>\n",
       "      <td>http://www.wendys.com</td>\n",
       "      <td>West</td>\n",
       "    </tr>\n",
       "  </tbody>\n",
       "</table>\n",
       "</div>"
      ],
      "text/plain": [
       "                         address           city   latitude   longitude  \\\n",
       "9019           500 W Prairie Ave  Coeur D Alene  47.744486 -116.792939   \n",
       "6893  2205 W Jonathan Moore Pike       Columbus  39.200159  -85.960792   \n",
       "4034               176 Market St        Potsdam  44.683160  -74.986850   \n",
       "1097             1040 E Iron Ave         Salina  38.840130  -97.594450   \n",
       "2558            144 W Brigham Rd   Saint George  37.060600 -113.585900   \n",
       "\n",
       "             name postalCode province  \\\n",
       "9019     del taco      83814       ID   \n",
       "6893    mcdonalds      47201       IN   \n",
       "4034  burger king      13676       NY   \n",
       "1097    taco bell      67401       KS   \n",
       "2558       wendys      84790       UT   \n",
       "\n",
       "                                               websites   region  \n",
       "9019          http://www.deltaco.com,http://deltaco.com     West  \n",
       "6893  http://www.mcdonalds.com/?cid=RF:YXT_FM:TP::Ye...  Central  \n",
       "4034  http://www.bk.com,https://locations.bk.com/ny/...     East  \n",
       "1097  http://www.tacobell.com,https://locations.taco...  Central  \n",
       "2558                              http://www.wendys.com     West  "
      ]
     },
     "execution_count": 61,
     "metadata": {},
     "output_type": "execute_result"
    }
   ],
   "source": [
    "df_ffr_num.sample(5)"
   ]
  },
  {
   "cell_type": "markdown",
   "metadata": {},
   "source": [
    "#### Perform Label Encoding"
   ]
  },
  {
   "cell_type": "code",
   "execution_count": 62,
   "metadata": {},
   "outputs": [],
   "source": [
    "from sklearn.preprocessing import LabelEncoder                                    \n",
    "number = LabelEncoder()                                                           \n",
    "for i in df_ffr_num.columns:                                                      \n",
    "    df_ffr_num[i] = number.fit_transform(df_ffr_num[i].astype('str'))"
   ]
  },
  {
   "cell_type": "code",
   "execution_count": 63,
   "metadata": {},
   "outputs": [
    {
     "data": {
      "text/html": [
       "<div>\n",
       "<style scoped>\n",
       "    .dataframe tbody tr th:only-of-type {\n",
       "        vertical-align: middle;\n",
       "    }\n",
       "\n",
       "    .dataframe tbody tr th {\n",
       "        vertical-align: top;\n",
       "    }\n",
       "\n",
       "    .dataframe thead th {\n",
       "        text-align: right;\n",
       "    }\n",
       "</style>\n",
       "<table border=\"1\" class=\"dataframe\">\n",
       "  <thead>\n",
       "    <tr style=\"text-align: right;\">\n",
       "      <th></th>\n",
       "      <th>address</th>\n",
       "      <th>city</th>\n",
       "      <th>latitude</th>\n",
       "      <th>longitude</th>\n",
       "      <th>name</th>\n",
       "      <th>postalCode</th>\n",
       "      <th>province</th>\n",
       "      <th>websites</th>\n",
       "      <th>region</th>\n",
       "    </tr>\n",
       "  </thead>\n",
       "  <tbody>\n",
       "    <tr>\n",
       "      <th>5905</th>\n",
       "      <td>2032</td>\n",
       "      <td>402</td>\n",
       "      <td>1208</td>\n",
       "      <td>8769</td>\n",
       "      <td>391</td>\n",
       "      <td>3828</td>\n",
       "      <td>43</td>\n",
       "      <td>3503</td>\n",
       "      <td>2</td>\n",
       "    </tr>\n",
       "    <tr>\n",
       "      <th>1452</th>\n",
       "      <td>8991</td>\n",
       "      <td>794</td>\n",
       "      <td>5556</td>\n",
       "      <td>6103</td>\n",
       "      <td>435</td>\n",
       "      <td>1984</td>\n",
       "      <td>17</td>\n",
       "      <td>2683</td>\n",
       "      <td>2</td>\n",
       "    </tr>\n",
       "    <tr>\n",
       "      <th>3312</th>\n",
       "      <td>2198</td>\n",
       "      <td>2190</td>\n",
       "      <td>9370</td>\n",
       "      <td>8470</td>\n",
       "      <td>232</td>\n",
       "      <td>2819</td>\n",
       "      <td>23</td>\n",
       "      <td>1823</td>\n",
       "      <td>0</td>\n",
       "    </tr>\n",
       "    <tr>\n",
       "      <th>5308</th>\n",
       "      <td>1726</td>\n",
       "      <td>490</td>\n",
       "      <td>6593</td>\n",
       "      <td>3008</td>\n",
       "      <td>129</td>\n",
       "      <td>400</td>\n",
       "      <td>38</td>\n",
       "      <td>3717</td>\n",
       "      <td>1</td>\n",
       "    </tr>\n",
       "    <tr>\n",
       "      <th>9806</th>\n",
       "      <td>5243</td>\n",
       "      <td>298</td>\n",
       "      <td>7097</td>\n",
       "      <td>2598</td>\n",
       "      <td>432</td>\n",
       "      <td>71</td>\n",
       "      <td>34</td>\n",
       "      <td>2674</td>\n",
       "      <td>1</td>\n",
       "    </tr>\n",
       "  </tbody>\n",
       "</table>\n",
       "</div>"
      ],
      "text/plain": [
       "      address  city  latitude  longitude  name  postalCode  province  \\\n",
       "5905     2032   402      1208       8769   391        3828        43   \n",
       "1452     8991   794      5556       6103   435        1984        17   \n",
       "3312     2198  2190      9370       8470   232        2819        23   \n",
       "5308     1726   490      6593       3008   129         400        38   \n",
       "9806     5243   298      7097       2598   432          71        34   \n",
       "\n",
       "      websites  region  \n",
       "5905      3503       2  \n",
       "1452      2683       2  \n",
       "3312      1823       0  \n",
       "5308      3717       1  \n",
       "9806      2674       1  "
      ]
     },
     "execution_count": 63,
     "metadata": {},
     "output_type": "execute_result"
    }
   ],
   "source": [
    "df_ffr_num.sample(5)"
   ]
  },
  {
   "cell_type": "code",
   "execution_count": 64,
   "metadata": {},
   "outputs": [
    {
     "data": {
      "text/plain": [
       "region        1.000000\n",
       "postalCode    0.328078\n",
       "websites      0.061737\n",
       "city          0.036859\n",
       "name         -0.001757\n",
       "address      -0.006144\n",
       "province     -0.115382\n",
       "latitude     -0.479503\n",
       "longitude    -0.508975\n",
       "Name: region, dtype: float64"
      ]
     },
     "execution_count": 64,
     "metadata": {},
     "output_type": "execute_result"
    }
   ],
   "source": [
    "corr=df_ffr_num.corr()['region']\n",
    "corr[np.argsort(corr,axis=0)[::-1]]"
   ]
  },
  {
   "cell_type": "markdown",
   "metadata": {},
   "source": [
    "<a id=section413></a>"
   ]
  },
  {
   "cell_type": "markdown",
   "metadata": {},
   "source": [
    "### 4.13 Correlation Matrix of Fast Food Restaurants"
   ]
  },
  {
   "cell_type": "code",
   "execution_count": 72,
   "metadata": {},
   "outputs": [
    {
     "data": {
      "text/plain": [
       "Text(0.5,1,'Correlation between attributes')"
      ]
     },
     "execution_count": 72,
     "metadata": {},
     "output_type": "execute_result"
    },
    {
     "data": {
      "image/png": "[encoded data removed]",
      "text/plain": [
       "<Figure size 1000x1000 with 2 Axes>"
      ]
     },
     "metadata": {},
     "output_type": "display_data"
    }
   ],
   "source": [
    "corr = df_ffr_num.corr()\n",
    "plt.figure(figsize=(10,10))\n",
    "sns.heatmap(corr,vmax=.8,linewidth=.01, square = True, annot = True,cmap='YlGnBu',linecolor ='black')\n",
    "plt.title('Correlation between attributes')"
   ]
  },
  {
   "cell_type": "markdown",
   "metadata": {},
   "source": [
    "<a id=section414></a>"
   ]
  },
  {
   "cell_type": "markdown",
   "metadata": {},
   "source": [
    "### 4.14 Donut Plot with Regions and Top 10 Provinces "
   ]
  },
  {
   "cell_type": "code",
   "execution_count": 66,
   "metadata": {},
   "outputs": [
    {
     "data": {
      "image/png": "[encoded data removed]",
      "text/plain": [
       "<Figure size 800x550 with 1 Axes>"
      ]
     },
     "metadata": {},
     "output_type": "display_data"
    }
   ],
   "source": [
    "group_names=['West', 'Central', 'East', 'South']\n",
    "group_size=[2032,2720,1077,4171]\n",
    "subgroup_names=['CA','TX','OH','FL','IN','IL','NC','GA','MO','KY']\n",
    "subgroup_size=[676,634,543,471,379,363,358,347,334,332]\n",
    " \n",
    "# Create colors\n",
    "a, b, c=[plt.cm.Blues, plt.cm.Reds, plt.cm.Greens]\n",
    " \n",
    "# First Ring (outside)\n",
    "fig, ax = plt.subplots()\n",
    "ax.axis('equal')\n",
    "mypie, _ = ax.pie(group_size, radius=1.3, labels=group_names, colors = ['yellowgreen', 'gold'])\n",
    "plt.setp( mypie, width=0.3, edgecolor='white')\n",
    "\n",
    "# wedges, texts, autotexts = ax.pie(group_size, autopct=lambda pct: func(pct, data),\n",
    "                                  #textprops=dict(color=\"w\"))\n",
    " \n",
    "# Second Ring (Inside)\n",
    "mypie2, _ = ax.pie(subgroup_size, radius=1.3-0.3, labels=subgroup_names, labeldistance=0.7, colors=[a(0.5), b(0.4), c(0.5), a(0.5), b(0.4), c(0.5)])\n",
    "plt.setp( mypie2, width=0.4, edgecolor='white')\n",
    "plt.margins(0,0)\n",
    "plt.title('Donut plot')\n",
    "# show it\n",
    "plt.show()"
   ]
  },
  {
   "cell_type": "markdown",
   "metadata": {},
   "source": [
    "<a id=section5></a>"
   ]
  },
  {
   "cell_type": "markdown",
   "metadata": {},
   "source": [
    "## 5. Conclusion \n",
    "\n",
    "- Post cleaning the __name__ and __province__ features, we were able to consolidate the restaurant names and group them correctly.<br/>\n",
    "- We also created a new feature __region__ that helped us to understand the distribution region wise. \n",
    "- We also used __profiling__ feature to generate html reports (both pre and post cleaning) resulting in the information about the attributes present in the dataset.\n",
    "- This analysis will help the stakeholders to understand the presence of __top 10 and bottom 10 restaurants, provinces and cities__ to explore opportunites in __new regions, provinces__ and __cities__. "
   ]
  }
 ],
 "metadata": {
  "kernelspec": {
   "display_name": "Python 3",
   "language": "python",
   "name": "python3"
  },
  "language_info": {
   "codemirror_mode": {
    "name": "ipython",
    "version": 3
   },
   "file_extension": ".py",
   "mimetype": "text/x-python",
   "name": "python",
   "nbconvert_exporter": "python",
   "pygments_lexer": "ipython3",
   "version": "3.7.0"
  }
 },
 "nbformat": 4,
 "nbformat_minor": 2
}
